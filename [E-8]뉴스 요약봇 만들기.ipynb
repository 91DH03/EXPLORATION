{
 "cells": [
  {
   "cell_type": "markdown",
   "id": "b87e77a9",
   "metadata": {},
   "source": [
    "# 1. 데이터 가져오기"
   ]
  },
  {
   "cell_type": "code",
   "execution_count": 77,
   "id": "2a922718",
   "metadata": {},
   "outputs": [
    {
     "name": "stderr",
     "output_type": "stream",
     "text": [
      "[nltk_data] Downloading package stopwords to /aiffel/nltk_data...\n",
      "[nltk_data]   Package stopwords is already up-to-date!\n"
     ]
    }
   ],
   "source": [
    "# package load\n",
    "import nltk\n",
    "nltk.download('stopwords')  # nltk에서 불용어 사전 다운로드\n",
    "\n",
    "import numpy as np\n",
    "import pandas as pd\n",
    "import os\n",
    "import re\n",
    "import matplotlib.pyplot as plt\n",
    "from nltk.corpus import stopwords\n",
    "from bs4 import BeautifulSoup \n",
    "from tensorflow.keras.preprocessing.text import Tokenizer \n",
    "from tensorflow.keras.preprocessing.sequence import pad_sequences\n",
    "import urllib.request\n",
    "import warnings\n",
    "warnings.filterwarnings(\"ignore\", category=UserWarning, module='bs4')"
   ]
  },
  {
   "cell_type": "markdown",
   "id": "0e9061b5",
   "metadata": {},
   "source": [
    "- 해당 코드에 입력된 주소에서 데이터 다운로드 하여 가져옴"
   ]
  },
  {
   "cell_type": "code",
   "execution_count": 14,
   "id": "df266b14",
   "metadata": {},
   "outputs": [],
   "source": [
    "import urllib.request\n",
    "urllib.request.urlretrieve(\"https://raw.githubusercontent.com/sunnysai12345/News_Summary/master/news_summary_more.csv\", filename=\"news_summary_more.csv\")\n",
    "data = pd.read_csv('news_summary_more.csv', encoding='iso-8859-1')"
   ]
  },
  {
   "cell_type": "code",
   "execution_count": 15,
   "id": "a06e1d64",
   "metadata": {},
   "outputs": [
    {
     "data": {
      "text/html": [
       "<div>\n",
       "<style scoped>\n",
       "    .dataframe tbody tr th:only-of-type {\n",
       "        vertical-align: middle;\n",
       "    }\n",
       "\n",
       "    .dataframe tbody tr th {\n",
       "        vertical-align: top;\n",
       "    }\n",
       "\n",
       "    .dataframe thead th {\n",
       "        text-align: right;\n",
       "    }\n",
       "</style>\n",
       "<table border=\"1\" class=\"dataframe\">\n",
       "  <thead>\n",
       "    <tr style=\"text-align: right;\">\n",
       "      <th></th>\n",
       "      <th>headlines</th>\n",
       "      <th>text</th>\n",
       "    </tr>\n",
       "  </thead>\n",
       "  <tbody>\n",
       "    <tr>\n",
       "      <th>89237</th>\n",
       "      <td>Zimbabwe Prez 'not sleeping, just resting eyes...</td>\n",
       "      <td>After several photographs emerged showing Zimb...</td>\n",
       "    </tr>\n",
       "    <tr>\n",
       "      <th>12620</th>\n",
       "      <td>Video: NASA releasing 450,000 gallons of water...</td>\n",
       "      <td>nA video shows NASA's water deluge system rele...</td>\n",
       "    </tr>\n",
       "    <tr>\n",
       "      <th>46548</th>\n",
       "      <td>Twitter reacts to Canadian PM Justin Trudeau's...</td>\n",
       "      <td>After Canadian Prime Minister Justin Trudeau d...</td>\n",
       "    </tr>\n",
       "    <tr>\n",
       "      <th>19734</th>\n",
       "      <td>Ronaldo's overhead kick vs Juventus chosen Goa...</td>\n",
       "      <td>Portugal player Cristiano Ronaldo's overhead k...</td>\n",
       "    </tr>\n",
       "    <tr>\n",
       "      <th>17497</th>\n",
       "      <td>Lack of practice games reason behind Eng serie...</td>\n",
       "      <td>Speaking about India's recent series loss to E...</td>\n",
       "    </tr>\n",
       "    <tr>\n",
       "      <th>35826</th>\n",
       "      <td>Passenger held with 10 live bullets at Delhi a...</td>\n",
       "      <td>A passenger was held at Delhi's Indira Gandhi ...</td>\n",
       "    </tr>\n",
       "    <tr>\n",
       "      <th>95604</th>\n",
       "      <td>Finance Bill gets President's nod, takes effec...</td>\n",
       "      <td>President Pranab Mukherjee has given his assen...</td>\n",
       "    </tr>\n",
       "    <tr>\n",
       "      <th>70864</th>\n",
       "      <td>ISIS supporters hail Irma as 'God's soldier', ...</td>\n",
       "      <td>Islamic State supporters on social media have ...</td>\n",
       "    </tr>\n",
       "    <tr>\n",
       "      <th>45799</th>\n",
       "      <td>Will develop strategy to stay off terror finan...</td>\n",
       "      <td>Pakistan will develop a strategy to avoid bein...</td>\n",
       "    </tr>\n",
       "    <tr>\n",
       "      <th>12522</th>\n",
       "      <td>Consumer data safe: Paytm after CEO blackmaile...</td>\n",
       "      <td>After three people including two Paytm employe...</td>\n",
       "    </tr>\n",
       "  </tbody>\n",
       "</table>\n",
       "</div>"
      ],
      "text/plain": [
       "                                               headlines  \\\n",
       "89237  Zimbabwe Prez 'not sleeping, just resting eyes...   \n",
       "12620  Video: NASA releasing 450,000 gallons of water...   \n",
       "46548  Twitter reacts to Canadian PM Justin Trudeau's...   \n",
       "19734  Ronaldo's overhead kick vs Juventus chosen Goa...   \n",
       "17497  Lack of practice games reason behind Eng serie...   \n",
       "35826  Passenger held with 10 live bullets at Delhi a...   \n",
       "95604  Finance Bill gets President's nod, takes effec...   \n",
       "70864  ISIS supporters hail Irma as 'God's soldier', ...   \n",
       "45799  Will develop strategy to stay off terror finan...   \n",
       "12522  Consumer data safe: Paytm after CEO blackmaile...   \n",
       "\n",
       "                                                    text  \n",
       "89237  After several photographs emerged showing Zimb...  \n",
       "12620  nA video shows NASA's water deluge system rele...  \n",
       "46548  After Canadian Prime Minister Justin Trudeau d...  \n",
       "19734  Portugal player Cristiano Ronaldo's overhead k...  \n",
       "17497  Speaking about India's recent series loss to E...  \n",
       "35826  A passenger was held at Delhi's Indira Gandhi ...  \n",
       "95604  President Pranab Mukherjee has given his assen...  \n",
       "70864  Islamic State supporters on social media have ...  \n",
       "45799  Pakistan will develop a strategy to avoid bein...  \n",
       "12522  After three people including two Paytm employe...  "
      ]
     },
     "execution_count": 15,
     "metadata": {},
     "output_type": "execute_result"
    }
   ],
   "source": [
    "data.sample(10)"
   ]
  },
  {
   "cell_type": "code",
   "execution_count": 16,
   "id": "e24da8b0",
   "metadata": {},
   "outputs": [
    {
     "name": "stdout",
     "output_type": "stream",
     "text": [
      "전체 샘플수 : 98401\n"
     ]
    }
   ],
   "source": [
    "print('전체 샘플수 :',(len(data)))"
   ]
  },
  {
   "cell_type": "code",
   "execution_count": 17,
   "id": "e1aa7063",
   "metadata": {},
   "outputs": [
    {
     "name": "stdout",
     "output_type": "stream",
     "text": [
      "upGrad learner switches to career in ML & Al with 90% salary hike\n",
      "Saurav Kant, an alumnus of upGrad and IIIT-B's PG Program in Machine learning and Artificial Intelligence, was a Sr Systems Engineer at Infosys with almost 5 years of work experience. The program and upGrad's 360-degree career support helped him transition to a Data Scientist at Tech Mahindra with 90% salary hike. upGrad's Online Power Learning has powered 3 lakh+ careers.\n"
     ]
    }
   ],
   "source": [
    "print(data.loc[0]['headlines'])\n",
    "print(data.loc[0]['text'])"
   ]
  },
  {
   "cell_type": "markdown",
   "id": "55000ab7",
   "metadata": {},
   "source": [
    "# 2. 데이터 전처리하기\n",
    "## 2-1 중복값, 결측치 제거\n",
    "- 중복 샘플 유무 확인과 null값이 존재하는 샘플 제거하기\n",
    "- 학습시 방해되는 요소들 제거\n",
    "- 의미는 같으나 다르게 작성된 기사들 제거"
   ]
  },
  {
   "cell_type": "code",
   "execution_count": 18,
   "id": "9d1f2498",
   "metadata": {},
   "outputs": [
    {
     "name": "stdout",
     "output_type": "stream",
     "text": [
      "text 열에서 중복을 배제한 유일한 샘플의 수 : 98360\n",
      "headlines 열에서 중복을 배제한 유일한 샘플의 수 : 98280\n"
     ]
    }
   ],
   "source": [
    "print('text 열에서 중복을 배제한 유일한 샘플의 수 :', data['text'].nunique())\n",
    "print('headlines 열에서 중복을 배제한 유일한 샘플의 수 :', data['headlines'].nunique())"
   ]
  },
  {
   "cell_type": "code",
   "execution_count": 19,
   "id": "ef84eb6e",
   "metadata": {},
   "outputs": [
    {
     "name": "stdout",
     "output_type": "stream",
     "text": [
      "전체 샘플 수 : 98360\n"
     ]
    }
   ],
   "source": [
    "data.drop_duplicates(subset = ['text'], inplace = True)\n",
    "print('전체 샘플 수 :',(len(data)))"
   ]
  },
  {
   "cell_type": "code",
   "execution_count": 20,
   "id": "44a7a4d6",
   "metadata": {},
   "outputs": [
    {
     "name": "stdout",
     "output_type": "stream",
     "text": [
      "headlines    0\n",
      "text         0\n",
      "dtype: int64\n"
     ]
    }
   ],
   "source": [
    "print(data.isnull().sum())"
   ]
  },
  {
   "cell_type": "markdown",
   "id": "a80bfbe5",
   "metadata": {},
   "source": [
    "## 2-2 텍스트 정규화와 불용어 제거\n",
    "- i will > i'll ,to have -> to've 같은 표현들을 제거하고 연산되는걸 줄임\n",
    "- 우리는 이걸 정규화라고 함"
   ]
  },
  {
   "cell_type": "code",
   "execution_count": 21,
   "id": "78c99cb6",
   "metadata": {},
   "outputs": [
    {
     "name": "stdout",
     "output_type": "stream",
     "text": [
      "정규화 사전의 수:  120\n"
     ]
    }
   ],
   "source": [
    "contractions = {\"ain't\": \"is not\", \"aren't\": \"are not\",\"can't\": \"cannot\", \"'cause\": \"because\", \"could've\": \"could have\", \"couldn't\": \"could not\",\n",
    "                           \"didn't\": \"did not\",  \"doesn't\": \"does not\", \"don't\": \"do not\", \"hadn't\": \"had not\", \"hasn't\": \"has not\", \"haven't\": \"have not\",\n",
    "                           \"he'd\": \"he would\",\"he'll\": \"he will\", \"he's\": \"he is\", \"how'd\": \"how did\", \"how'd'y\": \"how do you\", \"how'll\": \"how will\", \"how's\": \"how is\",\n",
    "                           \"I'd\": \"I would\", \"I'd've\": \"I would have\", \"I'll\": \"I will\", \"I'll've\": \"I will have\",\"I'm\": \"I am\", \"I've\": \"I have\", \"i'd\": \"i would\",\n",
    "                           \"i'd've\": \"i would have\", \"i'll\": \"i will\",  \"i'll've\": \"i will have\",\"i'm\": \"i am\", \"i've\": \"i have\", \"isn't\": \"is not\", \"it'd\": \"it would\",\n",
    "                           \"it'd've\": \"it would have\", \"it'll\": \"it will\", \"it'll've\": \"it will have\",\"it's\": \"it is\", \"let's\": \"let us\", \"ma'am\": \"madam\",\n",
    "                           \"mayn't\": \"may not\", \"might've\": \"might have\",\"mightn't\": \"might not\",\"mightn't've\": \"might not have\", \"must've\": \"must have\",\n",
    "                           \"mustn't\": \"must not\", \"mustn't've\": \"must not have\", \"needn't\": \"need not\", \"needn't've\": \"need not have\",\"o'clock\": \"of the clock\",\n",
    "                           \"oughtn't\": \"ought not\", \"oughtn't've\": \"ought not have\", \"shan't\": \"shall not\", \"sha'n't\": \"shall not\", \"shan't've\": \"shall not have\",\n",
    "                           \"she'd\": \"she would\", \"she'd've\": \"she would have\", \"she'll\": \"she will\", \"she'll've\": \"she will have\", \"she's\": \"she is\",\n",
    "                           \"should've\": \"should have\", \"shouldn't\": \"should not\", \"shouldn't've\": \"should not have\", \"so've\": \"so have\",\"so's\": \"so as\",\n",
    "                           \"this's\": \"this is\",\"that'd\": \"that would\", \"that'd've\": \"that would have\", \"that's\": \"that is\", \"there'd\": \"there would\",\n",
    "                           \"there'd've\": \"there would have\", \"there's\": \"there is\", \"here's\": \"here is\",\"they'd\": \"they would\", \"they'd've\": \"they would have\",\n",
    "                           \"they'll\": \"they will\", \"they'll've\": \"they will have\", \"they're\": \"they are\", \"they've\": \"they have\", \"to've\": \"to have\",\n",
    "                           \"wasn't\": \"was not\", \"we'd\": \"we would\", \"we'd've\": \"we would have\", \"we'll\": \"we will\", \"we'll've\": \"we will have\", \"we're\": \"we are\",\n",
    "                           \"we've\": \"we have\", \"weren't\": \"were not\", \"what'll\": \"what will\", \"what'll've\": \"what will have\", \"what're\": \"what are\",\n",
    "                           \"what's\": \"what is\", \"what've\": \"what have\", \"when's\": \"when is\", \"when've\": \"when have\", \"where'd\": \"where did\", \"where's\": \"where is\",\n",
    "                           \"where've\": \"where have\", \"who'll\": \"who will\", \"who'll've\": \"who will have\", \"who's\": \"who is\", \"who've\": \"who have\",\n",
    "                           \"why's\": \"why is\", \"why've\": \"why have\", \"will've\": \"will have\", \"won't\": \"will not\", \"won't've\": \"will not have\",\n",
    "                           \"would've\": \"would have\", \"wouldn't\": \"would not\", \"wouldn't've\": \"would not have\", \"y'all\": \"you all\",\n",
    "                           \"y'all'd\": \"you all would\",\"y'all'd've\": \"you all would have\",\"y'all're\": \"you all are\",\"y'all've\": \"you all have\",\n",
    "                           \"you'd\": \"you would\", \"you'd've\": \"you would have\", \"you'll\": \"you will\", \"you'll've\": \"you will have\",\n",
    "                           \"you're\": \"you are\", \"you've\": \"you have\"}\n",
    "\n",
    "print(\"정규화 사전의 수: \",len(contractions))"
   ]
  },
  {
   "cell_type": "markdown",
   "id": "be895110",
   "metadata": {},
   "source": [
    "- 텍스트에는 자주 보이지만 정말 쓸모없는 단어들을 stopwords라고 함\n",
    "- stopwords들을 없애서 자연어 성능을 높여야함"
   ]
  },
  {
   "cell_type": "code",
   "execution_count": 22,
   "id": "f7641895",
   "metadata": {},
   "outputs": [
    {
     "name": "stdout",
     "output_type": "stream",
     "text": [
      "불용어 개수 : 179\n",
      "['i', 'me', 'my', 'myself', 'we', 'our', 'ours', 'ourselves', 'you', \"you're\", \"you've\", \"you'll\", \"you'd\", 'your', 'yours', 'yourself', 'yourselves', 'he', 'him', 'his', 'himself', 'she', \"she's\", 'her', 'hers', 'herself', 'it', \"it's\", 'its', 'itself', 'they', 'them', 'their', 'theirs', 'themselves', 'what', 'which', 'who', 'whom', 'this', 'that', \"that'll\", 'these', 'those', 'am', 'is', 'are', 'was', 'were', 'be', 'been', 'being', 'have', 'has', 'had', 'having', 'do', 'does', 'did', 'doing', 'a', 'an', 'the', 'and', 'but', 'if', 'or', 'because', 'as', 'until', 'while', 'of', 'at', 'by', 'for', 'with', 'about', 'against', 'between', 'into', 'through', 'during', 'before', 'after', 'above', 'below', 'to', 'from', 'up', 'down', 'in', 'out', 'on', 'off', 'over', 'under', 'again', 'further', 'then', 'once', 'here', 'there', 'when', 'where', 'why', 'how', 'all', 'any', 'both', 'each', 'few', 'more', 'most', 'other', 'some', 'such', 'no', 'nor', 'not', 'only', 'own', 'same', 'so', 'than', 'too', 'very', 's', 't', 'can', 'will', 'just', 'don', \"don't\", 'should', \"should've\", 'now', 'd', 'll', 'm', 'o', 're', 've', 'y', 'ain', 'aren', \"aren't\", 'couldn', \"couldn't\", 'didn', \"didn't\", 'doesn', \"doesn't\", 'hadn', \"hadn't\", 'hasn', \"hasn't\", 'haven', \"haven't\", 'isn', \"isn't\", 'ma', 'mightn', \"mightn't\", 'mustn', \"mustn't\", 'needn', \"needn't\", 'shan', \"shan't\", 'shouldn', \"shouldn't\", 'wasn', \"wasn't\", 'weren', \"weren't\", 'won', \"won't\", 'wouldn', \"wouldn't\"]\n"
     ]
    }
   ],
   "source": [
    "print('불용어 개수 :', len(stopwords.words('english') ))\n",
    "print(stopwords.words('english'))"
   ]
  },
  {
   "cell_type": "code",
   "execution_count": 23,
   "id": "5eee6341",
   "metadata": {},
   "outputs": [],
   "source": [
    "#데이터 전처리 함수\n",
    "def preprocess_sentence(sentence, remove_stopwords=True):\n",
    "    sentence = sentence.lower() # 텍스트 소문자화\n",
    "    sentence = BeautifulSoup(sentence, \"lxml\").text # <br />, <a href = ...> 등의 html 태그 제거\n",
    "    sentence = re.sub(r'\\([^)]*\\)', '', sentence) # 괄호로 닫힌 문자열 (...) 제거 Ex) my husband (and myself!) for => my husband for\n",
    "    sentence = re.sub('\"','', sentence) # 쌍따옴표 \" 제거\n",
    "    sentence = ' '.join([contractions[t] if t in contractions else t for t in sentence.split(\" \")]) # 약어 정규화\n",
    "    sentence = re.sub(r\"'s\\b\",\"\",sentence) # 소유격 제거. Ex) roland's -> roland\n",
    "    sentence = re.sub(\"[^a-zA-Z]\", \" \", sentence) # 영어 외 문자(숫자, 특수문자 등) 공백으로 변환\n",
    "    sentence = re.sub('[m]{2,}', 'mm', sentence) # m이 3개 이상이면 2개로 변경. Ex) ummmmmmm yeah -> umm yeah\n",
    "    \n",
    "    # 불용어 제거 (text)\n",
    "    if remove_stopwords:\n",
    "        tokens = ' '.join(word for word in sentence.split() if not word in stopwords.words('english') if len(word) > 1)\n",
    "    # 불용어 미제거 (headlines)\n",
    "    else:\n",
    "        tokens = ' '.join(word for word in sentence.split() if len(word) > 1)\n",
    "    return tokens"
   ]
  },
  {
   "cell_type": "markdown",
   "id": "c29e6e14",
   "metadata": {},
   "source": [
    "- 텍스트들이 모두 소문자로 변환\n",
    "- html 태그가 제거\n",
    "- 괄호로 닫힌 문자열들 모두 제거: my husband (and myself!) for => my husband for\n",
    "- 소유격제거\n",
    "- 영어를 제외한 문자는 모두 공백으로 변환\n",
    "- m이 3개 이상이면 2개로 변경됨 : ummmmmmm yeah -> umm yeah"
   ]
  },
  {
   "cell_type": "code",
   "execution_count": 24,
   "id": "eb170d8a",
   "metadata": {},
   "outputs": [
    {
     "data": {
      "text/plain": [
       "['saurav kant alumnus upgrad iiit pg program machine learning artificial intelligence sr systems engineer infosys almost years work experience program upgrad degree career support helped transition data scientist tech mahindra salary hike upgrad online power learning powered lakh careers',\n",
       " 'kunal shah credit card bill payment platform cred gave users chance win free food swiggy one year pranav kaushik delhi techie bagged reward spending cred coins users get one cred coin per rupee bill paid used avail rewards brands like ixigo bookmyshow ubereats cult fit',\n",
       " 'new zealand defeated india wickets fourth odi hamilton thursday win first match five match odi series india lost international match rohit sharma captaincy consecutive victories dating back march match witnessed india getting seventh lowest total odi cricket history',\n",
       " 'aegon life iterm insurance plan customers enjoy tax benefits premiums paid save taxes plan provides life cover age years also customers options insure critical illnesses disability accidental death benefit rider life cover age years',\n",
       " 'speaking sexual harassment allegations rajkumar hirani sonam kapoor said known hirani many years true metoo movement get derailed metoo movement always believe woman case need reserve judgment added hirani accused assistant worked sanju']"
      ]
     },
     "execution_count": 24,
     "metadata": {},
     "output_type": "execute_result"
    }
   ],
   "source": [
    "clean_text = []\n",
    "\n",
    "# 전체 Text 데이터에 대한 전처리 : 10분 이상 시간이 걸릴 수 있습니다. \n",
    "for s in data['text']:\n",
    "    clean_text.append(preprocess_sentence(s))\n",
    "\n",
    "# 전처리 후 출력\n",
    "clean_text[:5]"
   ]
  },
  {
   "cell_type": "code",
   "execution_count": 25,
   "id": "2479b2fd",
   "metadata": {},
   "outputs": [
    {
     "data": {
      "text/plain": [
       "['upgrad learner switches to career in ml al with salary hike',\n",
       " 'delhi techie wins free food from swiggy for one year on cred',\n",
       " 'new zealand end rohit sharma led india match winning streak',\n",
       " 'aegon life iterm insurance plan helps customers save tax',\n",
       " 'have known hirani for yrs what if metoo claims are not true sonam']"
      ]
     },
     "execution_count": 25,
     "metadata": {},
     "output_type": "execute_result"
    }
   ],
   "source": [
    "clean_summary = []\n",
    "\n",
    "# 전체 Summary 데이터에 대한 전처리 : 5분 이상 시간이 걸릴 수 있습니다. \n",
    "for s in data['headlines']:\n",
    "    clean_summary.append(preprocess_sentence(s, False)) # 불용어를 제거하지 않습니다.\n",
    "\n",
    "clean_summary[:5]"
   ]
  },
  {
   "cell_type": "code",
   "execution_count": 26,
   "id": "740614a4",
   "metadata": {},
   "outputs": [],
   "source": [
    "data['text'] = clean_text\n",
    "data['headlines'] = clean_summary\n",
    "\n",
    "# 빈 값을 Null 값으로 변환\n",
    "data.replace('', np.nan, inplace=True)"
   ]
  },
  {
   "cell_type": "code",
   "execution_count": 27,
   "id": "24eecbfb",
   "metadata": {},
   "outputs": [
    {
     "data": {
      "text/plain": [
       "headlines    0\n",
       "text         0\n",
       "dtype: int64"
      ]
     },
     "execution_count": 27,
     "metadata": {},
     "output_type": "execute_result"
    }
   ],
   "source": [
    "data.isnull().sum()"
   ]
  },
  {
   "cell_type": "markdown",
   "id": "9d705d31",
   "metadata": {},
   "source": [
    "# 3. 훈련데이터와 테스트데이터 분리\n",
    "## 3-1 샘플의 최대길이 설정\n",
    "- 문장의 처음과 끝을 지정\n",
    "- 학습 데이터의 크기를 결정함\n",
    "- 텍스트, 요약의 각각 최소, 최대, 평균의 길이를 구함\n",
    "- 길이를 구한 것을 시각화 시킴"
   ]
  },
  {
   "cell_type": "code",
   "execution_count": 28,
   "id": "690fcf9b",
   "metadata": {},
   "outputs": [
    {
     "name": "stdout",
     "output_type": "stream",
     "text": [
      "텍스트의 최소 길이 : 1\n",
      "텍스트의 최대 길이 : 60\n",
      "텍스트의 평균 길이 : 35.09968483123221\n",
      "요약의 최소 길이 : 1\n",
      "요약의 최대 길이 : 16\n",
      "요약의 평균 길이 : 9.299532330215534\n"
     ]
    },
    {
     "data": {
      "image/png": "[encoded data removed]",
      "text/plain": [
       "<Figure size 432x288 with 2 Axes>"
      ]
     },
     "metadata": {
      "needs_background": "light"
     },
     "output_type": "display_data"
    },
    {
     "data": {
      "image/png": "[encoded data removed]",
      "text/plain": [
       "<Figure size 432x288 with 1 Axes>"
      ]
     },
     "metadata": {
      "needs_background": "light"
     },
     "output_type": "display_data"
    },
    {
     "data": {
      "image/png": "[encoded data removed]",
      "text/plain": [
       "<Figure size 432x288 with 1 Axes>"
      ]
     },
     "metadata": {
      "needs_background": "light"
     },
     "output_type": "display_data"
    }
   ],
   "source": [
    "# 길이 분포 출력\n",
    "import matplotlib.pyplot as plt\n",
    "\n",
    "text_len = [len(s.split()) for s in data['text']]\n",
    "summary_len = [len(s.split()) for s in data['headlines']]\n",
    "\n",
    "print('텍스트의 최소 길이 : {}'.format(np.min(text_len)))\n",
    "print('텍스트의 최대 길이 : {}'.format(np.max(text_len)))\n",
    "print('텍스트의 평균 길이 : {}'.format(np.mean(text_len)))\n",
    "print('요약의 최소 길이 : {}'.format(np.min(summary_len)))\n",
    "print('요약의 최대 길이 : {}'.format(np.max(summary_len)))\n",
    "print('요약의 평균 길이 : {}'.format(np.mean(summary_len)))\n",
    "\n",
    "plt.subplot(1,2,1)\n",
    "plt.boxplot(summary_len)\n",
    "plt.title('headlines')\n",
    "plt.subplot(1,2,2)\n",
    "plt.boxplot(text_len)\n",
    "plt.title('text')\n",
    "plt.tight_layout()\n",
    "plt.show()\n",
    "\n",
    "plt.title('headlines')\n",
    "plt.hist(summary_len, bins = 40)\n",
    "plt.xlabel('length of samples')\n",
    "plt.ylabel('number of samples')\n",
    "plt.show()\n",
    "\n",
    "plt.title('text')\n",
    "plt.hist(text_len, bins = 40)\n",
    "plt.xlabel('length of samples')\n",
    "plt.ylabel('number of samples')\n",
    "plt.show()"
   ]
  },
  {
   "cell_type": "code",
   "execution_count": 70,
   "id": "a4833b59",
   "metadata": {},
   "outputs": [],
   "source": [
    "text_max_len = 45\n",
    "headlines_max_len = 13"
   ]
  },
  {
   "cell_type": "markdown",
   "id": "c19e69fc",
   "metadata": {},
   "source": [
    "- 44, 13으로 설정해줌"
   ]
  },
  {
   "cell_type": "code",
   "execution_count": 30,
   "id": "1a949e35",
   "metadata": {},
   "outputs": [],
   "source": [
    "def below_threshold_len(max_len, nested_list):\n",
    "    cnt = 0\n",
    "    for s in nested_list:\n",
    "        if(len(s.split()) <= max_len):\n",
    "            cnt = cnt + 1\n",
    "    print('전체 샘플 중 길이가 %s 이하인 샘플의 비율: %s'%(max_len, (cnt / len(nested_list))))"
   ]
  },
  {
   "cell_type": "code",
   "execution_count": 31,
   "id": "cba2a2ac",
   "metadata": {},
   "outputs": [
    {
     "name": "stdout",
     "output_type": "stream",
     "text": [
      "전체 샘플 중 길이가 45 이하인 샘플의 비율: 0.9967771451809678\n",
      "전체 샘플 중 길이가 13 이하인 샘플의 비율: 0.9981699877999186\n"
     ]
    }
   ],
   "source": [
    "below_threshold_len(text_max_len, data['text'])\n",
    "below_threshold_len(summary_max_len, data['headlines'])"
   ]
  },
  {
   "cell_type": "code",
   "execution_count": 32,
   "id": "19053ff3",
   "metadata": {},
   "outputs": [
    {
     "name": "stdout",
     "output_type": "stream",
     "text": [
      "전체 샘플 수 : 97863\n"
     ]
    }
   ],
   "source": [
    "data = data[data['text'].apply(lambda x: len(x.split()) <= text_max_len)]\n",
    "data = data[data['headlines'].apply(lambda x: len(x.split()) <= summary_max_len)]\n",
    "print('전체 샘플 수 :',(len(data)))"
   ]
  },
  {
   "cell_type": "markdown",
   "id": "b1fb04e6",
   "metadata": {},
   "source": [
    "## 3-2 시작토큰과 종료토큰 추가"
   ]
  },
  {
   "cell_type": "code",
   "execution_count": 33,
   "id": "2f885574",
   "metadata": {},
   "outputs": [
    {
     "data": {
      "text/html": [
       "<div>\n",
       "<style scoped>\n",
       "    .dataframe tbody tr th:only-of-type {\n",
       "        vertical-align: middle;\n",
       "    }\n",
       "\n",
       "    .dataframe tbody tr th {\n",
       "        vertical-align: top;\n",
       "    }\n",
       "\n",
       "    .dataframe thead th {\n",
       "        text-align: right;\n",
       "    }\n",
       "</style>\n",
       "<table border=\"1\" class=\"dataframe\">\n",
       "  <thead>\n",
       "    <tr style=\"text-align: right;\">\n",
       "      <th></th>\n",
       "      <th>headlines</th>\n",
       "      <th>text</th>\n",
       "      <th>decoder_input</th>\n",
       "      <th>decoder_target</th>\n",
       "    </tr>\n",
       "  </thead>\n",
       "  <tbody>\n",
       "    <tr>\n",
       "      <th>0</th>\n",
       "      <td>upgrad learner switches to career in ml al wit...</td>\n",
       "      <td>saurav kant alumnus upgrad iiit pg program mac...</td>\n",
       "      <td>sostoken upgrad learner switches to career in ...</td>\n",
       "      <td>upgrad learner switches to career in ml al wit...</td>\n",
       "    </tr>\n",
       "    <tr>\n",
       "      <th>1</th>\n",
       "      <td>delhi techie wins free food from swiggy for on...</td>\n",
       "      <td>kunal shah credit card bill payment platform c...</td>\n",
       "      <td>sostoken delhi techie wins free food from swig...</td>\n",
       "      <td>delhi techie wins free food from swiggy for on...</td>\n",
       "    </tr>\n",
       "    <tr>\n",
       "      <th>2</th>\n",
       "      <td>new zealand end rohit sharma led india match w...</td>\n",
       "      <td>new zealand defeated india wickets fourth odi ...</td>\n",
       "      <td>sostoken new zealand end rohit sharma led indi...</td>\n",
       "      <td>new zealand end rohit sharma led india match w...</td>\n",
       "    </tr>\n",
       "    <tr>\n",
       "      <th>3</th>\n",
       "      <td>aegon life iterm insurance plan helps customer...</td>\n",
       "      <td>aegon life iterm insurance plan customers enjo...</td>\n",
       "      <td>sostoken aegon life iterm insurance plan helps...</td>\n",
       "      <td>aegon life iterm insurance plan helps customer...</td>\n",
       "    </tr>\n",
       "    <tr>\n",
       "      <th>4</th>\n",
       "      <td>have known hirani for yrs what if metoo claims...</td>\n",
       "      <td>speaking sexual harassment allegations rajkuma...</td>\n",
       "      <td>sostoken have known hirani for yrs what if met...</td>\n",
       "      <td>have known hirani for yrs what if metoo claims...</td>\n",
       "    </tr>\n",
       "  </tbody>\n",
       "</table>\n",
       "</div>"
      ],
      "text/plain": [
       "                                           headlines  \\\n",
       "0  upgrad learner switches to career in ml al wit...   \n",
       "1  delhi techie wins free food from swiggy for on...   \n",
       "2  new zealand end rohit sharma led india match w...   \n",
       "3  aegon life iterm insurance plan helps customer...   \n",
       "4  have known hirani for yrs what if metoo claims...   \n",
       "\n",
       "                                                text  \\\n",
       "0  saurav kant alumnus upgrad iiit pg program mac...   \n",
       "1  kunal shah credit card bill payment platform c...   \n",
       "2  new zealand defeated india wickets fourth odi ...   \n",
       "3  aegon life iterm insurance plan customers enjo...   \n",
       "4  speaking sexual harassment allegations rajkuma...   \n",
       "\n",
       "                                       decoder_input  \\\n",
       "0  sostoken upgrad learner switches to career in ...   \n",
       "1  sostoken delhi techie wins free food from swig...   \n",
       "2  sostoken new zealand end rohit sharma led indi...   \n",
       "3  sostoken aegon life iterm insurance plan helps...   \n",
       "4  sostoken have known hirani for yrs what if met...   \n",
       "\n",
       "                                      decoder_target  \n",
       "0  upgrad learner switches to career in ml al wit...  \n",
       "1  delhi techie wins free food from swiggy for on...  \n",
       "2  new zealand end rohit sharma led india match w...  \n",
       "3  aegon life iterm insurance plan helps customer...  \n",
       "4  have known hirani for yrs what if metoo claims...  "
      ]
     },
     "execution_count": 33,
     "metadata": {},
     "output_type": "execute_result"
    }
   ],
   "source": [
    "#요약 데이터에는 시작 토큰과 종료 토큰을 추가한다.\n",
    "data['decoder_input'] = data['headlines'].apply(lambda x : 'sostoken '+ x)\n",
    "data['decoder_target'] = data['headlines'].apply(lambda x : x + ' eostoken')\n",
    "data.head()"
   ]
  },
  {
   "cell_type": "code",
   "execution_count": 34,
   "id": "14e935ca",
   "metadata": {},
   "outputs": [],
   "source": [
    "encoder_input = np.array(data['text']) # 인코더의 입력\n",
    "decoder_input = np.array(data['decoder_input']) # 디코더의 입력\n",
    "decoder_target = np.array(data['decoder_target']) # 디코더의 레이블"
   ]
  },
  {
   "cell_type": "code",
   "execution_count": 35,
   "id": "5bed38f0",
   "metadata": {},
   "outputs": [
    {
     "name": "stdout",
     "output_type": "stream",
     "text": [
      "[33520 88749  5188 ... 32761 27221 39852]\n"
     ]
    }
   ],
   "source": [
    "indices = np.arange(encoder_input.shape[0])\n",
    "np.random.shuffle(indices)\n",
    "print(indices)"
   ]
  },
  {
   "cell_type": "code",
   "execution_count": 36,
   "id": "5935b269",
   "metadata": {},
   "outputs": [],
   "source": [
    "encoder_input = encoder_input[indices]\n",
    "decoder_input = decoder_input[indices]\n",
    "decoder_target = decoder_target[indices]"
   ]
  },
  {
   "cell_type": "code",
   "execution_count": 37,
   "id": "3e43db23",
   "metadata": {},
   "outputs": [
    {
     "name": "stdout",
     "output_type": "stream",
     "text": [
      "테스트 데이터의 수 : 19572\n"
     ]
    }
   ],
   "source": [
    "n_of_val = int(len(encoder_input)*0.2)\n",
    "print('테스트 데이터의 수 :',n_of_val)"
   ]
  },
  {
   "cell_type": "code",
   "execution_count": 38,
   "id": "9b7290b8",
   "metadata": {},
   "outputs": [
    {
     "name": "stdout",
     "output_type": "stream",
     "text": [
      "훈련 데이터의 개수 : 78291\n",
      "훈련 레이블의 개수 : 78291\n",
      "테스트 데이터의 개수 : 19572\n",
      "테스트 레이블의 개수 : 19572\n"
     ]
    }
   ],
   "source": [
    "encoder_input_train = encoder_input[:-n_of_val]\n",
    "decoder_input_train = decoder_input[:-n_of_val]\n",
    "decoder_target_train = decoder_target[:-n_of_val]\n",
    "\n",
    "encoder_input_test = encoder_input[-n_of_val:]\n",
    "decoder_input_test = decoder_input[-n_of_val:]\n",
    "decoder_target_test = decoder_target[-n_of_val:]\n",
    "\n",
    "print('훈련 데이터의 개수 :',len(encoder_input_train))\n",
    "print('훈련 레이블의 개수 :',len(decoder_input_train))\n",
    "print('테스트 데이터의 개수 :',len(encoder_input_test))\n",
    "print('테스트 레이블의 개수 :',len(decoder_input_test))"
   ]
  },
  {
   "cell_type": "markdown",
   "id": "ca399994",
   "metadata": {},
   "source": [
    "# 4. 정수인코딩\n",
    "## 4-1 단어 집합(vocabulary) 생성, 정수 인코딩"
   ]
  },
  {
   "cell_type": "code",
   "execution_count": 39,
   "id": "790abaad",
   "metadata": {},
   "outputs": [],
   "source": [
    "src_tokenizer = Tokenizer() # 토크나이저 정의\n",
    "src_tokenizer.fit_on_texts(encoder_input_train) # 입력된 데이터로부터 단어 집합 생성"
   ]
  },
  {
   "cell_type": "code",
   "execution_count": 40,
   "id": "6bab401a",
   "metadata": {},
   "outputs": [
    {
     "name": "stdout",
     "output_type": "stream",
     "text": [
      "단어 집합(vocabulary)의 크기 : 69337\n",
      "등장 빈도가 6번 이하인 희귀 단어의 수: 47291\n",
      "단어 집합에서 희귀 단어를 제외시킬 경우의 단어 집합의 크기 22046\n",
      "단어 집합에서 희귀 단어의 비율: 68.20456610467716\n",
      "전체 등장 빈도에서 희귀 단어 등장 빈도 비율: 3.4977469674498822\n"
     ]
    }
   ],
   "source": [
    "threshold = 7\n",
    "total_cnt = len(src_tokenizer.word_index) # 단어의 수\n",
    "rare_cnt = 0 # 등장 빈도수가 threshold보다 작은 단어의 개수를 카운트\n",
    "total_freq = 0 # 훈련 데이터의 전체 단어 빈도수 총 합\n",
    "rare_freq = 0 # 등장 빈도수가 threshold보다 작은 단어의 등장 빈도수의 총 합\n",
    "\n",
    "# 단어와 빈도수의 쌍(pair)을 key와 value로 받는다.\n",
    "for key, value in src_tokenizer.word_counts.items():\n",
    "    total_freq = total_freq + value\n",
    "\n",
    "    # 단어의 등장 빈도수가 threshold보다 작으면\n",
    "    if(value < threshold):\n",
    "        rare_cnt = rare_cnt + 1\n",
    "        rare_freq = rare_freq + value\n",
    "\n",
    "print('단어 집합(vocabulary)의 크기 :',total_cnt)\n",
    "print('등장 빈도가 %s번 이하인 희귀 단어의 수: %s'%(threshold - 1, rare_cnt))\n",
    "print('단어 집합에서 희귀 단어를 제외시킬 경우의 단어 집합의 크기 %s'%(total_cnt - rare_cnt))\n",
    "print(\"단어 집합에서 희귀 단어의 비율:\", (rare_cnt / total_cnt)*100)\n",
    "print(\"전체 등장 빈도에서 희귀 단어 등장 빈도 비율:\", (rare_freq / total_freq)*100)"
   ]
  },
  {
   "cell_type": "code",
   "execution_count": 41,
   "id": "190d266e",
   "metadata": {},
   "outputs": [],
   "source": [
    "src_vocab = 20000\n",
    "src_tokenizer = Tokenizer(num_words = src_vocab) # 단어 집합의 크기 제한\n",
    "src_tokenizer.fit_on_texts(encoder_input_train) # 단어 집합 재생성"
   ]
  },
  {
   "cell_type": "code",
   "execution_count": 42,
   "id": "268a5eee",
   "metadata": {},
   "outputs": [
    {
     "name": "stdout",
     "output_type": "stream",
     "text": [
      "[[76, 19, 59, 1059, 1264, 10, 90, 22, 1023, 7302, 1576, 3838, 1286, 114, 109, 4085, 1487, 17383, 2310, 85, 3894, 84, 6222, 17383, 1, 1016, 2769, 24, 480, 7019, 2310, 76, 3411, 1286], [1700, 3510, 2043, 702, 185, 20, 93, 10025, 2570, 2520, 1030, 54, 550, 145, 14733, 6577, 384, 189, 1700, 1147, 3440, 232, 2964, 1700, 659, 565, 10026, 2570, 39, 3268, 3562, 12172], [948, 143, 502, 58, 2329, 437, 2288, 70, 3412, 20, 202, 235, 949, 4598, 487, 143, 502, 2329, 70, 7110, 572, 437, 1630, 863, 80, 17384, 1024, 948, 20, 202, 181, 1019]]\n"
     ]
    }
   ],
   "source": [
    "# 텍스트 시퀀스를 정수 시퀀스로 변환\n",
    "encoder_input_train = src_tokenizer.texts_to_sequences(encoder_input_train) \n",
    "encoder_input_test = src_tokenizer.texts_to_sequences(encoder_input_test)\n",
    "\n",
    "# 잘 진행되었는지 샘플 출력\n",
    "print(encoder_input_train[:3])"
   ]
  },
  {
   "cell_type": "code",
   "execution_count": 43,
   "id": "735702f1",
   "metadata": {},
   "outputs": [],
   "source": [
    "tar_tokenizer = Tokenizer()\n",
    "tar_tokenizer.fit_on_texts(decoder_input_train)"
   ]
  },
  {
   "cell_type": "code",
   "execution_count": 44,
   "id": "43721862",
   "metadata": {},
   "outputs": [
    {
     "name": "stdout",
     "output_type": "stream",
     "text": [
      "단어 집합(vocabulary)의 크기 : 29970\n",
      "등장 빈도가 5번 이하인 희귀 단어의 수: 19625\n",
      "단어 집합에서 희귀 단어를 제외시킬 경우의 단어 집합의 크기 10345\n",
      "단어 집합에서 희귀 단어의 비율: 65.48214881548215\n",
      "전체 등장 빈도에서 희귀 단어 등장 빈도 비율: 4.682555349053172\n"
     ]
    }
   ],
   "source": [
    "threshold = 6\n",
    "total_cnt = len(tar_tokenizer.word_index) # 단어의 수\n",
    "rare_cnt = 0 # 등장 빈도수가 threshold보다 작은 단어의 개수를 카운트\n",
    "total_freq = 0 # 훈련 데이터의 전체 단어 빈도수 총 합\n",
    "rare_freq = 0 # 등장 빈도수가 threshold보다 작은 단어의 등장 빈도수의 총 합\n",
    "\n",
    "# 단어와 빈도수의 쌍(pair)을 key와 value로 받는다.\n",
    "for key, value in tar_tokenizer.word_counts.items():\n",
    "    total_freq = total_freq + value\n",
    "\n",
    "    # 단어의 등장 빈도수가 threshold보다 작으면\n",
    "    if(value < threshold):\n",
    "        rare_cnt = rare_cnt + 1\n",
    "        rare_freq = rare_freq + value\n",
    "\n",
    "print('단어 집합(vocabulary)의 크기 :',total_cnt)\n",
    "print('등장 빈도가 %s번 이하인 희귀 단어의 수: %s'%(threshold - 1, rare_cnt))\n",
    "print('단어 집합에서 희귀 단어를 제외시킬 경우의 단어 집합의 크기 %s'%(total_cnt - rare_cnt))\n",
    "print(\"단어 집합에서 희귀 단어의 비율:\", (rare_cnt / total_cnt)*100)\n",
    "print(\"전체 등장 빈도에서 희귀 단어 등장 빈도 비율:\", (rare_freq / total_freq)*100)"
   ]
  },
  {
   "cell_type": "code",
   "execution_count": 45,
   "id": "e0b7e4ae",
   "metadata": {},
   "outputs": [
    {
     "name": "stdout",
     "output_type": "stream",
     "text": [
      "input\n",
      "input  [[1, 1665, 3, 98, 4, 223, 5, 6153, 3, 536, 1492], [1, 1189, 28, 6839, 4251, 2920, 11, 540, 132], [1, 188, 3865, 672, 567, 3866, 28, 229, 393, 770], [1, 1149, 712, 164, 3, 179, 4, 358, 59, 35], [1, 265, 6, 3, 1362, 84, 65, 281, 734, 218]]\n",
      "target\n",
      "decoder  [[1665, 3, 98, 4, 223, 5, 6153, 3, 536, 1492, 2], [1189, 28, 6839, 4251, 2920, 11, 540, 132, 2], [188, 3865, 672, 567, 3866, 28, 229, 393, 770, 2], [1149, 712, 164, 3, 179, 4, 358, 59, 35, 2], [265, 6, 3, 1362, 84, 65, 281, 734, 218, 2]]\n"
     ]
    }
   ],
   "source": [
    "tar_vocab = 10000\n",
    "tar_tokenizer = Tokenizer(num_words = tar_vocab) \n",
    "tar_tokenizer.fit_on_texts(decoder_input_train)\n",
    "tar_tokenizer.fit_on_texts(decoder_target_train)\n",
    "\n",
    "# 텍스트 시퀀스를 정수 시퀀스로 변환\n",
    "decoder_input_train = tar_tokenizer.texts_to_sequences(decoder_input_train) \n",
    "decoder_target_train = tar_tokenizer.texts_to_sequences(decoder_target_train)\n",
    "decoder_input_test = tar_tokenizer.texts_to_sequences(decoder_input_test)\n",
    "decoder_target_test = tar_tokenizer.texts_to_sequences(decoder_target_test)\n",
    "\n",
    "#잘 변환되었는지 확인\n",
    "print('input')\n",
    "print('input ',decoder_input_train[:5])\n",
    "print('target')\n",
    "print('decoder ',decoder_target_train[:5])"
   ]
  },
  {
   "cell_type": "code",
   "execution_count": 46,
   "id": "39f8df97",
   "metadata": {},
   "outputs": [
    {
     "name": "stdout",
     "output_type": "stream",
     "text": [
      "삭제할 훈련 데이터의 개수 : 0\n",
      "삭제할 테스트 데이터의 개수 : 0\n",
      "훈련 데이터의 개수 : 78291\n",
      "훈련 레이블의 개수 : 78291\n",
      "테스트 데이터의 개수 : 19572\n",
      "테스트 레이블의 개수 : 19572\n"
     ]
    },
    {
     "name": "stderr",
     "output_type": "stream",
     "text": [
      "/opt/conda/lib/python3.9/site-packages/numpy/lib/function_base.py:4454: VisibleDeprecationWarning: Creating an ndarray from ragged nested sequences (which is a list-or-tuple of lists-or-tuples-or ndarrays with different lengths or shapes) is deprecated. If you meant to do this, you must specify 'dtype=object' when creating the ndarray.\n",
      "  arr = asarray(arr)\n"
     ]
    }
   ],
   "source": [
    "# 요약문의 길이가 1인 경우 삭제\n",
    "drop_train = [index for index, sentence in enumerate(decoder_input_train) if len(sentence) == 1]\n",
    "drop_test = [index for index, sentence in enumerate(decoder_input_test) if len(sentence) == 1]\n",
    "\n",
    "print('삭제할 훈련 데이터의 개수 :',len(drop_train))\n",
    "print('삭제할 테스트 데이터의 개수 :',len(drop_test))\n",
    "\n",
    "encoder_input_train = np.delete(encoder_input_train, drop_train, axis=0)\n",
    "decoder_input_train = np.delete(decoder_input_train, drop_train, axis=0)\n",
    "decoder_target_train = np.delete(decoder_target_train, drop_train, axis=0)\n",
    "\n",
    "encoder_input_test = np.delete(encoder_input_test, drop_test, axis=0)\n",
    "decoder_input_test = np.delete(decoder_input_test, drop_test, axis=0)\n",
    "decoder_target_test = np.delete(decoder_target_test, drop_test, axis=0)\n",
    "\n",
    "print('훈련 데이터의 개수 :',len(encoder_input_train))\n",
    "print('훈련 레이블의 개수 :',len(decoder_input_train))\n",
    "print('테스트 데이터의 개수 :',len(encoder_input_test))\n",
    "print('테스트 레이블의 개수 :',len(decoder_input_test))"
   ]
  },
  {
   "cell_type": "markdown",
   "id": "0d42ac7f",
   "metadata": {},
   "source": [
    "## 4-2 패딩\n",
    "- 서로 다른 길이의 샘플들을 같은 길이로 맞춰주는 것"
   ]
  },
  {
   "cell_type": "code",
   "execution_count": 47,
   "id": "25cac67e",
   "metadata": {},
   "outputs": [],
   "source": [
    "encoder_input_train = pad_sequences(encoder_input_train, maxlen = text_max_len, padding='post')\n",
    "encoder_input_test = pad_sequences(encoder_input_test, maxlen = text_max_len, padding='post')\n",
    "decoder_input_train = pad_sequences(decoder_input_train, maxlen = summary_max_len, padding='post')\n",
    "decoder_target_train = pad_sequences(decoder_target_train, maxlen = summary_max_len, padding='post')\n",
    "decoder_input_test = pad_sequences(decoder_input_test, maxlen = summary_max_len, padding='post')\n",
    "decoder_target_test = pad_sequences(decoder_target_test, maxlen = summary_max_len, padding='post')"
   ]
  },
  {
   "cell_type": "markdown",
   "id": "f65dbd48",
   "metadata": {},
   "source": [
    "# 5. 모델 설계하기\n",
    "## 5-1 seq2seq\n",
    "- 함수형 API를 이용하여 인코더를 설계함"
   ]
  },
  {
   "cell_type": "code",
   "execution_count": 48,
   "id": "3d506aaa",
   "metadata": {},
   "outputs": [
    {
     "name": "stdout",
     "output_type": "stream",
     "text": [
      "WARNING:tensorflow:Layer lstm will not use cuDNN kernels since it doesn't meet the criteria. It will use a generic GPU kernel as fallback when running on GPU.\n",
      "WARNING:tensorflow:Layer lstm_1 will not use cuDNN kernels since it doesn't meet the criteria. It will use a generic GPU kernel as fallback when running on GPU.\n",
      "WARNING:tensorflow:Layer lstm_2 will not use cuDNN kernels since it doesn't meet the criteria. It will use a generic GPU kernel as fallback when running on GPU.\n"
     ]
    }
   ],
   "source": [
    "from tensorflow.keras.layers import Input, LSTM, Embedding, Dense, Concatenate\n",
    "from tensorflow.keras.models import Model\n",
    "from tensorflow.keras.callbacks import EarlyStopping, ModelCheckpoint\n",
    "\n",
    "# 인코더 설계 시작\n",
    "embedding_dim = 128\n",
    "hidden_size = 256\n",
    "\n",
    "# 인코더\n",
    "encoder_inputs = Input(shape=(text_max_len,))\n",
    "\n",
    "# 인코더의 임베딩 층\n",
    "enc_emb = Embedding(src_vocab, embedding_dim)(encoder_inputs)\n",
    "\n",
    "# 인코더의 LSTM 1\n",
    "encoder_lstm1 = LSTM(hidden_size, return_sequences=True, return_state=True, dropout = 0.4, recurrent_dropout = 0.4)\n",
    "encoder_output1, state_h1, state_c1 = encoder_lstm1(enc_emb)\n",
    "\n",
    "# 인코더의 LSTM 2\n",
    "encoder_lstm2 = LSTM(hidden_size, return_sequences=True, return_state=True, dropout=0.4, recurrent_dropout=0.4)\n",
    "encoder_output2, state_h2, state_c2 = encoder_lstm2(encoder_output1)\n",
    "\n",
    "# 인코더의 LSTM 3\n",
    "encoder_lstm3 = LSTM(hidden_size, return_state=True, return_sequences=True, dropout=0.4, recurrent_dropout=0.4)\n",
    "encoder_outputs, state_h, state_c= encoder_lstm3(encoder_output2)"
   ]
  },
  {
   "cell_type": "code",
   "execution_count": 49,
   "id": "0e5a6562",
   "metadata": {},
   "outputs": [
    {
     "name": "stdout",
     "output_type": "stream",
     "text": [
      "WARNING:tensorflow:Layer lstm_3 will not use cuDNN kernels since it doesn't meet the criteria. It will use a generic GPU kernel as fallback when running on GPU.\n"
     ]
    }
   ],
   "source": [
    "# 디코더 설계\n",
    "decoder_inputs = Input(shape=(None,))\n",
    "\n",
    "# 디코더의 임베딩 층\n",
    "dec_emb_layer = Embedding(tar_vocab, embedding_dim)\n",
    "dec_emb = dec_emb_layer(decoder_inputs)\n",
    "\n",
    "# 디코더의 LSTM\n",
    "decoder_lstm = LSTM(hidden_size, return_sequences = True, return_state = True, dropout = 0.4, recurrent_dropout=0.2)\n",
    "decoder_outputs, _, _ = decoder_lstm(dec_emb, initial_state = [state_h, state_c])"
   ]
  },
  {
   "cell_type": "markdown",
   "id": "b25f856b",
   "metadata": {},
   "source": [
    "# 5-2 어텐션 매커니즘"
   ]
  },
  {
   "cell_type": "code",
   "execution_count": 50,
   "id": "683d076c",
   "metadata": {},
   "outputs": [
    {
     "data": {
      "text/plain": [
       "('attention.py', <http.client.HTTPMessage at 0x7f89592b11f0>)"
      ]
     },
     "execution_count": 50,
     "metadata": {},
     "output_type": "execute_result"
    }
   ],
   "source": [
    "# 어텐션 함수 다운로드\n",
    "urllib.request.urlretrieve(\"https://raw.githubusercontent.com/thushv89/attention_keras/master/src/layers/attention.py\", filename=\"attention.py\")"
   ]
  },
  {
   "cell_type": "code",
   "execution_count": 51,
   "id": "d06e03ba",
   "metadata": {},
   "outputs": [
    {
     "name": "stdout",
     "output_type": "stream",
     "text": [
      "Model: \"model\"\n",
      "__________________________________________________________________________________________________\n",
      "Layer (type)                    Output Shape         Param #     Connected to                     \n",
      "==================================================================================================\n",
      "input_1 (InputLayer)            [(None, 45)]         0                                            \n",
      "__________________________________________________________________________________________________\n",
      "embedding (Embedding)           (None, 45, 128)      2560000     input_1[0][0]                    \n",
      "__________________________________________________________________________________________________\n",
      "lstm (LSTM)                     [(None, 45, 256), (N 394240      embedding[0][0]                  \n",
      "__________________________________________________________________________________________________\n",
      "input_2 (InputLayer)            [(None, None)]       0                                            \n",
      "__________________________________________________________________________________________________\n",
      "lstm_1 (LSTM)                   [(None, 45, 256), (N 525312      lstm[0][0]                       \n",
      "__________________________________________________________________________________________________\n",
      "embedding_1 (Embedding)         (None, None, 128)    1280000     input_2[0][0]                    \n",
      "__________________________________________________________________________________________________\n",
      "lstm_2 (LSTM)                   [(None, 45, 256), (N 525312      lstm_1[0][0]                     \n",
      "__________________________________________________________________________________________________\n",
      "lstm_3 (LSTM)                   [(None, None, 256),  394240      embedding_1[0][0]                \n",
      "                                                                 lstm_2[0][1]                     \n",
      "                                                                 lstm_2[0][2]                     \n",
      "__________________________________________________________________________________________________\n",
      "attention_layer (AdditiveAttent (None, None, 256)    256         lstm_3[0][0]                     \n",
      "                                                                 lstm_2[0][0]                     \n",
      "__________________________________________________________________________________________________\n",
      "concat_layer (Concatenate)      (None, None, 512)    0           lstm_3[0][0]                     \n",
      "                                                                 attention_layer[0][0]            \n",
      "__________________________________________________________________________________________________\n",
      "dense (Dense)                   (None, None, 10000)  5130000     concat_layer[0][0]               \n",
      "==================================================================================================\n",
      "Total params: 10,809,360\n",
      "Trainable params: 10,809,360\n",
      "Non-trainable params: 0\n",
      "__________________________________________________________________________________________________\n"
     ]
    }
   ],
   "source": [
    "from tensorflow.keras.layers import AdditiveAttention\n",
    "\n",
    "# 어텐션 층(어텐션 함수)\n",
    "attn_layer = AdditiveAttention(name='attention_layer')\n",
    "\n",
    "# 인코더와 디코더의 모든 time step의 hidden state를 어텐션 층에 전달하고 결과를 리턴\n",
    "attn_out = attn_layer([decoder_outputs, encoder_outputs])\n",
    "\n",
    "\n",
    "# 어텐션의 결과와 디코더의 hidden state들을 연결\n",
    "decoder_concat_input = Concatenate(axis=-1, name='concat_layer')([decoder_outputs, attn_out])\n",
    "\n",
    "# 디코더의 출력층\n",
    "decoder_softmax_layer = Dense(tar_vocab, activation='softmax')\n",
    "decoder_softmax_outputs = decoder_softmax_layer(decoder_concat_input)\n",
    "\n",
    "# 모델 정의\n",
    "model = Model([encoder_inputs, decoder_inputs], decoder_softmax_outputs)\n",
    "model.summary()"
   ]
  },
  {
   "cell_type": "markdown",
   "id": "b91f89f7",
   "metadata": {},
   "source": [
    "# 6. 모델훈련\n",
    "- '조기 종료'를 뜻하는 EarlyStopping은 특정 조건이 충족되면 훈련을 멈추는 역할."
   ]
  },
  {
   "cell_type": "code",
   "execution_count": 52,
   "id": "3a77ba8b",
   "metadata": {},
   "outputs": [
    {
     "name": "stdout",
     "output_type": "stream",
     "text": [
      "Epoch 1/50\n",
      "77/77 [==============================] - 73s 833ms/step - loss: 5.6562 - val_loss: 5.2031\n",
      "Epoch 2/50\n",
      "77/77 [==============================] - 64s 828ms/step - loss: 5.1514 - val_loss: 4.9778\n",
      "Epoch 3/50\n",
      "77/77 [==============================] - 64s 827ms/step - loss: 4.9258 - val_loss: 4.8307\n",
      "Epoch 4/50\n",
      "77/77 [==============================] - 64s 829ms/step - loss: 4.7425 - val_loss: 4.6301\n",
      "Epoch 5/50\n",
      "77/77 [==============================] - 64s 832ms/step - loss: 4.5734 - val_loss: 4.4824\n",
      "Epoch 6/50\n",
      "77/77 [==============================] - 64s 832ms/step - loss: 4.3973 - val_loss: 4.3307\n",
      "Epoch 7/50\n",
      "77/77 [==============================] - 64s 830ms/step - loss: 4.2390 - val_loss: 4.2103\n",
      "Epoch 8/50\n",
      "77/77 [==============================] - 64s 831ms/step - loss: 4.1018 - val_loss: 4.1086\n",
      "Epoch 9/50\n",
      "77/77 [==============================] - 64s 830ms/step - loss: 3.9845 - val_loss: 4.0306\n",
      "Epoch 10/50\n",
      "77/77 [==============================] - 63s 825ms/step - loss: 3.8735 - val_loss: 3.9487\n",
      "Epoch 11/50\n",
      "77/77 [==============================] - 64s 827ms/step - loss: 3.7751 - val_loss: 3.8897\n",
      "Epoch 12/50\n",
      "77/77 [==============================] - 64s 827ms/step - loss: 3.6853 - val_loss: 3.8389\n",
      "Epoch 13/50\n",
      "77/77 [==============================] - 64s 827ms/step - loss: 3.6020 - val_loss: 3.7956\n",
      "Epoch 14/50\n",
      "77/77 [==============================] - 64s 826ms/step - loss: 3.5231 - val_loss: 3.7543\n",
      "Epoch 15/50\n",
      "77/77 [==============================] - 63s 822ms/step - loss: 3.4493 - val_loss: 3.7116\n",
      "Epoch 16/50\n",
      "77/77 [==============================] - 63s 822ms/step - loss: 3.3774 - val_loss: 3.6734\n",
      "Epoch 17/50\n",
      "77/77 [==============================] - 63s 820ms/step - loss: 3.3125 - val_loss: 3.6430\n",
      "Epoch 18/50\n",
      "77/77 [==============================] - 63s 820ms/step - loss: 3.2498 - val_loss: 3.6121\n",
      "Epoch 19/50\n",
      "77/77 [==============================] - 63s 824ms/step - loss: 3.1897 - val_loss: 3.5881\n",
      "Epoch 20/50\n",
      "77/77 [==============================] - 63s 819ms/step - loss: 3.1335 - val_loss: 3.5715\n",
      "Epoch 21/50\n",
      "77/77 [==============================] - 63s 819ms/step - loss: 3.0801 - val_loss: 3.5434\n",
      "Epoch 22/50\n",
      "77/77 [==============================] - 63s 822ms/step - loss: 3.0298 - val_loss: 3.5256\n",
      "Epoch 23/50\n",
      "77/77 [==============================] - 64s 827ms/step - loss: 2.9822 - val_loss: 3.5133\n",
      "Epoch 24/50\n",
      "77/77 [==============================] - 64s 838ms/step - loss: 2.9364 - val_loss: 3.5025\n",
      "Epoch 25/50\n",
      "77/77 [==============================] - 64s 832ms/step - loss: 2.8931 - val_loss: 3.4946\n",
      "Epoch 26/50\n",
      "77/77 [==============================] - 64s 829ms/step - loss: 2.8499 - val_loss: 3.4832\n",
      "Epoch 27/50\n",
      "77/77 [==============================] - 64s 829ms/step - loss: 2.8103 - val_loss: 3.4701\n",
      "Epoch 28/50\n",
      "77/77 [==============================] - 64s 830ms/step - loss: 2.7719 - val_loss: 3.4715\n",
      "Epoch 29/50\n",
      "77/77 [==============================] - 64s 832ms/step - loss: 2.7341 - val_loss: 3.4599\n",
      "Epoch 30/50\n",
      "77/77 [==============================] - 64s 831ms/step - loss: 2.6969 - val_loss: 3.4559\n",
      "Epoch 31/50\n",
      "77/77 [==============================] - 64s 828ms/step - loss: 2.6626 - val_loss: 3.4512\n",
      "Epoch 32/50\n",
      "77/77 [==============================] - 64s 828ms/step - loss: 2.6291 - val_loss: 3.4475\n",
      "Epoch 33/50\n",
      "77/77 [==============================] - 63s 817ms/step - loss: 2.5971 - val_loss: 3.4456\n",
      "Epoch 34/50\n",
      "77/77 [==============================] - 63s 814ms/step - loss: 2.5661 - val_loss: 3.4407\n",
      "Epoch 35/50\n",
      "77/77 [==============================] - 63s 818ms/step - loss: 2.5339 - val_loss: 3.4385\n",
      "Epoch 36/50\n",
      "77/77 [==============================] - 62s 811ms/step - loss: 2.5056 - val_loss: 3.4419\n",
      "Epoch 37/50\n",
      "77/77 [==============================] - 63s 815ms/step - loss: 2.4768 - val_loss: 3.4336\n",
      "Epoch 38/50\n",
      "77/77 [==============================] - 65s 840ms/step - loss: 2.4493 - val_loss: 3.4370\n",
      "Epoch 39/50\n",
      "77/77 [==============================] - 64s 838ms/step - loss: 2.4230 - val_loss: 3.4331\n",
      "Epoch 40/50\n",
      "77/77 [==============================] - 63s 819ms/step - loss: 2.3959 - val_loss: 3.4368\n",
      "Epoch 41/50\n",
      "77/77 [==============================] - 63s 814ms/step - loss: 2.3705 - val_loss: 3.4372\n",
      "Epoch 00041: early stopping\n"
     ]
    }
   ],
   "source": [
    "model.compile(optimizer='rmsprop', loss='sparse_categorical_crossentropy')\n",
    "es = EarlyStopping(monitor='val_loss', patience=2, verbose=1)\n",
    "history = model.fit(x=[encoder_input_train, decoder_input_train], y=decoder_target_train, \\\n",
    "          validation_data=([encoder_input_test, decoder_input_test], decoder_target_test), \\\n",
    "          batch_size=1024, callbacks=[es], epochs=50)"
   ]
  },
  {
   "cell_type": "markdown",
   "id": "6c94db04",
   "metadata": {},
   "source": [
    "## 6-1 시각화"
   ]
  },
  {
   "cell_type": "code",
   "execution_count": 53,
   "id": "4cb9f534",
   "metadata": {},
   "outputs": [
    {
     "data": {
      "image/png": "[encoded data removed]",
      "text/plain": [
       "<Figure size 432x288 with 1 Axes>"
      ]
     },
     "metadata": {
      "needs_background": "light"
     },
     "output_type": "display_data"
    }
   ],
   "source": [
    "plt.plot(history.history['loss'], label='train')\n",
    "plt.plot(history.history['val_loss'], label='test')\n",
    "plt.legend()\n",
    "plt.show()"
   ]
  },
  {
   "cell_type": "markdown",
   "id": "4ea994f5",
   "metadata": {},
   "source": [
    "# 7. 모델 테스트하기\n",
    "## 7-1 인퍼런스 모델 구현"
   ]
  },
  {
   "cell_type": "code",
   "execution_count": 71,
   "id": "bbeab566",
   "metadata": {},
   "outputs": [],
   "source": [
    "src_index_to_word = src_tokenizer.index_word # 원문 단어 집합에서 정수 -> 단어를 얻음\n",
    "tar_word_to_index = tar_tokenizer.word_index # 요약 단어 집합에서 단어 -> 정수를 얻음\n",
    "tar_index_to_word = tar_tokenizer.index_word # 요약 단어 집합에서 정수 -> 단어를 얻음"
   ]
  },
  {
   "cell_type": "code",
   "execution_count": 72,
   "id": "ec4454ad",
   "metadata": {},
   "outputs": [],
   "source": [
    "# 인코더 설계\n",
    "encoder_model = Model(inputs=encoder_inputs, outputs=[encoder_outputs, state_h, state_c])\n",
    "\n",
    "# 이전 시점의 상태들을 저장하는 텐서\n",
    "decoder_state_input_h = Input(shape=(hidden_size,))\n",
    "decoder_state_input_c = Input(shape=(hidden_size,))\n",
    "\n",
    "dec_emb2 = dec_emb_layer(decoder_inputs)\n",
    "\n",
    "# 문장의 다음 단어를 예측하기 위해서 초기 상태(initial_state)를 이전 시점의 상태로 사용. 이는 뒤의 함수 decode_sequence()에 구현\n",
    "# 훈련 과정에서와 달리 LSTM의 리턴하는 은닉 상태와 셀 상태인 state_h와 state_c를 버리지 않음.\n",
    "decoder_outputs2, state_h2, state_c2 = decoder_lstm(dec_emb2, initial_state=[decoder_state_input_h, decoder_state_input_c])"
   ]
  },
  {
   "cell_type": "code",
   "execution_count": 73,
   "id": "aa7e5d92",
   "metadata": {},
   "outputs": [],
   "source": [
    "# 어텐션 함수\n",
    "decoder_hidden_state_input = Input(shape=(text_max_len, hidden_size))\n",
    "attn_out_inf = attn_layer([decoder_outputs2, decoder_hidden_state_input])\n",
    "decoder_inf_concat = Concatenate(axis=-1, name='concat')([decoder_outputs2, attn_out_inf])\n",
    "\n",
    "# 디코더의 출력층\n",
    "decoder_outputs2 = decoder_softmax_layer(decoder_inf_concat) \n",
    "\n",
    "# 최종 디코더 모델\n",
    "decoder_model = Model(\n",
    "    [decoder_inputs] + [decoder_hidden_state_input,decoder_state_input_h, decoder_state_input_c],\n",
    "    [decoder_outputs2] + [state_h2, state_c2])"
   ]
  },
  {
   "cell_type": "code",
   "execution_count": 76,
   "id": "5d197492",
   "metadata": {},
   "outputs": [],
   "source": [
    "# 인퍼런스 단계에서 단어 시퀀스를 완성하는 함수\n",
    "def decode_sequence(input_seq):\n",
    "    # 입력으로부터 인코더의 상태를 얻음\n",
    "    e_out, e_h, e_c = encoder_model.predict(input_seq)\n",
    "\n",
    "     # <SOS>에 해당하는 토큰 생성\n",
    "    target_seq = np.zeros((1,1))\n",
    "    target_seq[0, 0] = tar_word_to_index['sostoken']\n",
    "\n",
    "    stop_condition = False\n",
    "    decoded_sentence = ''\n",
    "    while not stop_condition: # stop_condition이 True가 될 때까지 루프 반복\n",
    "\n",
    "        output_tokens, h, c = decoder_model.predict([target_seq] + [e_out, e_h, e_c])\n",
    "        sampled_token_index = np.argmax(output_tokens[0, -1, :])\n",
    "        sampled_token = tar_index_to_word[sampled_token_index]\n",
    "\n",
    "        if (sampled_token!='eostoken'):\n",
    "            decoded_sentence += ' '+sampled_token\n",
    "\n",
    "        #  <eos>에 도달하거나 최대 길이를 넘으면 중단.\n",
    "        if (sampled_token == 'eostoken' or len(decoded_sentence.split()) >= (headlines_max_len-1)):\n",
    "            stop_condition = True\n",
    "\n",
    "        # 길이가 1인 타겟 시퀀스를 업데이트\n",
    "        target_seq = np.zeros((1,1))\n",
    "        target_seq[0, 0] = sampled_token_index\n",
    "\n",
    "        # 상태를 업데이트 합니다.\n",
    "        e_h, e_c = h, c\n",
    "\n",
    "    return decoded_sentence"
   ]
  },
  {
   "cell_type": "markdown",
   "id": "e0de3cbe",
   "metadata": {},
   "source": [
    "## 7-2 원문과 요약문 비교"
   ]
  },
  {
   "cell_type": "code",
   "execution_count": 75,
   "id": "52d428a8",
   "metadata": {},
   "outputs": [],
   "source": [
    "# 원문의 정수 시퀀스를 텍스트 시퀀스로 변환\n",
    "def seq2text(input_seq):\n",
    "    temp=''\n",
    "    for i in input_seq:\n",
    "        if (i!=0):\n",
    "            temp = temp + src_index_to_word[i]+' '\n",
    "    return temp\n",
    "\n",
    "# 요약문의 정수 시퀀스를 텍스트 시퀀스로 변환\n",
    "def seq2headlines(input_seq):\n",
    "    temp=''\n",
    "    for i in input_seq:\n",
    "        if ((i!=0 and i!=tar_word_to_index['sostoken']) and i!=tar_word_to_index['eostoken']):\n",
    "            temp = temp + tar_index_to_word[i] + ' '\n",
    "    return temp"
   ]
  },
  {
   "cell_type": "code",
   "execution_count": 61,
   "id": "7bd06dd2",
   "metadata": {},
   "outputs": [
    {
     "name": "stdout",
     "output_type": "stream",
     "text": [
      "원문 : tiger zinda hai director ali abbas zafar shared picture katrina kaif salman khan film sets zafar captioned picture serious katrina kaif super focused set behind scenes friday feelings film sequel film ek tha tiger \n",
      "실제 요약 : pic shows katrina salman on sets of tiger zinda hai \n",
      "예측 요약 :  tiger zinda hai salman to be screened with salman\n",
      "\n",
      "\n",
      "원문 : cricketer yuvraj singh ventures invested undisclosed amount gurugram based startup called part transaction singh join board startup founded chartered accountants manish aggarwal amit provides support functions like accounting taxation legal assistance early stage startups \n",
      "실제 요약 : yuvraj singh invests in gurugram \n",
      "예측 요약 :  yuvraj singh invests crore in bengaluru\n",
      "\n",
      "\n",
      "원문 : around tons hazardous waste lying premises union india limited site bhopal gas tragedy government said tuesday environment minister anil madhav dave added central government taken measures safe speedy disposal toxic waste including assessment waste \n",
      "실제 요약 : bhopal gas tragedy site has tons of waste \n",
      "예측 요약 :  western train to be in western areas\n",
      "\n",
      "\n",
      "원문 : us muslim woman suing country border agents allegedly iphone data airport claimed questioned searched taken small room said agents kept copy phone data without warrant failed say whether deleted \n",
      "실제 요약 : muslim woman sues us border agents over seized iphone data \n",
      "예측 요약 :  man sues us for using fake info on hacking to us\n",
      "\n",
      "\n",
      "원문 : thief robbed jewellery store bengaluru drilling hole ceiling lodge room located nabbed within hours theft bus driver identified alerted police whereabouts kg gold silver articles recovered \n",
      "실제 요약 : thief who ceiling to rob jewellery store nabbed \n",
      "예측 요약 :  woman car into house after being caught on car\n",
      "\n",
      "\n",
      "원문 : attari wagah border joint check post jallianwala bagh terms tourist footfall first time become second visited place amritsar according tourism department people witness beating retreat border visit weekends meanwhile people visit jallianwala bagh weekends \n",
      "실제 요약 : replaces jallianwala as nd most visited in amritsar \n",
      "예측 요약 :  indian army to hold everest for st time in india\n",
      "\n",
      "\n",
      "원문 : mumbai police filed fir comedy group india bakchod tweeting meme pm narendra modi meme featured picture modi standing railway station along picture modi using snapchat dog filter facing criticism meme social media aib deleted meme \n",
      "실제 요약 : mumbai police file fir against aib for tweeting meme on modi \n",
      "예측 요약 :  fir against pm modi for humour on humour in delhi\n",
      "\n",
      "\n",
      "원문 : food discovery ordering startup zomato reportedly talks alibaba payments firm ant financial raise million according reports post funding round zomato may hit valuation around billion founded pankaj deepinder goyal food delivery startup previously backed silicon valley based sequoia capital \n",
      "실제 요약 : zomato in talks with alibaba ant financial to raise \n",
      "예측 요약 :  zomato zomato invests in talks to raise mn\n",
      "\n",
      "\n",
      "원문 : sharing thoughts last day pepsico ceo position years india born indra nooyi letter employees wrote good someone gives feedback assume positive intent think words willing challenge added nooyi remain pepsico chairman early next year \n",
      "실제 요약 : be good nooyi in letter on last day as pepsico ceo \n",
      "예측 요약 :  we are not doing job nooyi on india nooyi nooyi\n",
      "\n",
      "\n",
      "원문 : indian origin man named son unhurt plane crashed tesla car us thursday scratch us saw life flash minute second takes wrote facebook tesla ceo elon musk responded incident saying wow glad ok \n",
      "실제 요약 : plane hits indian origin man tesla car both him and son unhurt \n",
      "예측 요약 :  man who flew tesla to fly tesla car on autopilot\n",
      "\n",
      "\n",
      "원문 : spanish national team goalkeeper david de gea demanded public apology spain prime minister pedro sanchez commenting year old alleged involvement sexual assault case two years ago investigation launched sexual assault case found allegations manchester united goalkeeper false \n",
      "실제 요약 : spanish goalkeeper demands public apology from spain pm \n",
      "예측 요약 :  footballer who failed to have sex sex abuse by footballer\n",
      "\n",
      "\n",
      "원문 : us president donald trump reportedly decided stop cia program syria train rebel groups fighting syrian president bashar al assad program began produced little success signal putin administration wants improve ties russia officials said russia supported assad government fighting islamist extremists \n",
      "실제 요약 : us to suspend cia program in syria reports \n",
      "예측 요약 :  trump blames syrian prez assad over syria\n",
      "\n",
      "\n",
      "원문 : actor shah rukh khan play lead fourth instalment dhoom franchise per reports reportedly start working dhoom finishing shoot upcoming film zero earlier reports said salman khan also approached role turned offer \n",
      "실제 요약 : shah rukh khan to play lead in reports \n",
      "예측 요약 :  srk to play villain in srk film reports\n",
      "\n",
      "\n",
      "원문 : five year old girl allegedly raped teacher inside madrasa premises mumbai accused joined madrasa recently arrested victim parents lodged complaint police police said accused sexually assaulted child several times past week booked pocso act \n",
      "실제 요약 : year old girl raped by madrasa teacher in mumbai \n",
      "예측 요약 :  year old girl raped by police in rajasthan\n",
      "\n",
      "\n",
      "원문 : bengaluru based ai runs artificial intelligence powered personal assistant raised crore series round funding san francisco based fund sap existing investor ventures startup raised undisclosed amount ratan tata may ai bot uses machine learning technologies converse customers chat interface \n",
      "실제 요약 : ratan tata backed ai startup ai raises crore \n",
      "예측 요약 :  bengaluru based ai startup raises crore\n",
      "\n",
      "\n",
      "원문 : rajiv bansal took charge interim chairman managing director air india wednesday said plans work airline profitability missionary added airline plans improve time performance ensure customer satisfaction notably bansal replaced ashwani lohani assumed office railway board chairman \n",
      "실제 요약 : we will work with air india chief bansal \n",
      "예측 요약 :  air india privatisation is not good currency niti aayog\n",
      "\n",
      "\n",
      "원문 : early days organised cricket two stumps long bail top local match played england may bowler bowled three deliveries beat batsman passed stumps without disturbing bail third stump added avoid scenarios \n",
      "실제 요약 : why was the middle stump introduced in cricket \n",
      "예측 요약 :  batsman gets out obstructing field to take out of ball tampering\n",
      "\n",
      "\n",
      "원문 : family crpf jawan martyred sukma attack abhay mishra claimed suffered bullet injury month ago granted leave come home given bullet proof jacket mishra widow said also questioned mishra posted elsewhere already completed three years chhattisgarh \n",
      "실제 요약 : sukma martyr had bullet injury was denied leave kin \n",
      "예측 요약 :  crpf jawan who took stone pelters to surrender\n",
      "\n",
      "\n",
      "원문 : many missing children traced last months aadhaar unique identification authority india ceo ajay bhushan pandey said addressing conference cyberspace said orphanage children aadhaar helped identifying missing children found many cases biometric identification kids already existed \n",
      "실제 요약 : missing children through aadhaar uidai \n",
      "예측 요약 :  aadhaar can be mandatory for aadhaar without aadhaar\n",
      "\n",
      "\n",
      "원문 : trailer eddie redmayne starrer fantastic beasts crimes released sequel film fantastic beasts find directed david film also star johnny depp miller law among others fantastic beasts crimes release november \n",
      "실제 요약 : trailer of fantastic the crimes of out \n",
      "예측 요약 :  trailer of jason starrer released\n",
      "\n",
      "\n",
      "원문 : ocean cleanup dutch foundation developing technology remove plastic pollutants oceans announced would begin first cleanup two years schedule system includes plastic collecting pipe fitted floating anchor estimated clean half great pacific garbage patch five years said foundation year old ceo \n",
      "실제 요약 : ocean plastic cleanup to start years ahead of schedule \n",
      "예측 요약 :  plastic tests due to typhoon\n",
      "\n",
      "\n",
      "원문 : actor angad bedi asked many women wife neha dhupia replied many women think revealed neha talk show season angad revealed relationship woman year difference \n",
      "실제 요약 : have been with women reveals angad on wife neha dhupia show \n",
      "예측 요약 :  angad bedi slams wife for calling him\n",
      "\n",
      "\n",
      "원문 : election commission saturday threw open challenge political parties contested five state assembly elections held recently hack evms announced hold hackathon june onwards ec said participants pick four evms choice recently held state polls tamper hackathon \n",
      "실제 요약 : ec throws open challenge to parties to hack evms from june \n",
      "예측 요약 :  ec to contest evm tampering from evm tampering\n",
      "\n",
      "\n",
      "원문 : year old uk man given year jail sentence filming raping two year old girl based video footage hands footage man hands private parts visible face hidden however detailed analysis suspect skin patterns hands led conviction \n",
      "실제 요약 : skin colour on hands lead to conviction of paedophile \n",
      "예측 요약 :  indian man jailed for raping yr old repeatedly repeatedly\n",
      "\n",
      "\n",
      "원문 : jawaharlal nehru university students union members staged protest outside delhi police headquarters monday demanding strict police action prevent incidents mob violence delhi claimed police government maintaining criminal silence helping culprits run away victims family compromise \n",
      "실제 요약 : members stage protests against mob violence in delhi \n",
      "예측 요약 :  jnu students protest against police violence in protest\n",
      "\n",
      "\n",
      "원문 : jammu kashmir placed governor rule wednesday pdp president mehbooba mufti resigned chief minister case governor rule imposed six months wherein state assembly either suspended dissolved possible restore constitutional machinery within six month period president rule implemented \n",
      "실제 요약 : what happens when governor rule is implemented in state \n",
      "예측 요약 :  meghalaya governor calls governor rule over triple talaq\n",
      "\n",
      "\n",
      "원문 : world oldest steam engine heritage special locomotive completed heritage run railway stations chennai sunday steam engine built withdrawn service engine made compatible recent technological developments equipped gps based \n",
      "실제 요약 : world oldest steam engine finishes heritage run in chennai \n",
      "예측 요약 :  world longest floating opens in world largest\n",
      "\n",
      "\n",
      "원문 : amazon founder jeff bezos wife bezos donated million college scholarships give undocumented immigrants called dreamers opportunity go college amount fund immigrant graduates us high schools deferred action childhood arrivals status aid help students pay cost tuition fees books \n",
      "실제 요약 : jeff bezos donates million in for dreamers \n",
      "예측 요약 :  bezos donates crore to fund amazon donates bn bill gates\n",
      "\n",
      "\n",
      "원문 : venezuela opposition figures lopez antonio seized homes security officials families said lopez house arrest inciting anti government protests confined house plotting coup comes venezuela elected constituent assembly expected expand president nicol maduro powers \n",
      "실제 요약 : venezuela opposition figures seized from homes \n",
      "예측 요약 :  kuwait seizes syrian spies in kuwait amid diplomatic row\n",
      "\n",
      "\n",
      "원문 : former congress mla arrested delhi police tuesday connection money laundering case registered last year rajesh jain three time mla bazar central delhi allegedly made illegal transactions exchange demonetised notes new notes made transactions forging documents using shell company accounts \n",
      "실제 요약 : former congress mla arrested over money laundering in delhi \n",
      "예측 요약 :  bjp mp arrested for possession of crore\n",
      "\n",
      "\n",
      "원문 : days daughter kerala top cop kumar accused hitting police driver chief minister pinarayi vijayan said senior police officials allowed use policemen personal work basic human rights people protected added notably around policemen currently deployed officials homes \n",
      "실제 요약 : using policemen for personal work not allowed kerala cm \n",
      "예측 요약 :  kerala man who denied entry to be held for lynching\n",
      "\n",
      "\n",
      "원문 : mumbai recently received electricity first time since independence reportedly comes year social activist took issue chief minister devendra fadnavis electricity supplied central government deendayal upadhyaya gram jyoti yojana \n",
      "실제 요약 : mumbai gets electricity for first time since \n",
      "예측 요약 :  delhi metro to get its first city\n",
      "\n",
      "\n",
      "원문 : drivers cab aggregating startups ola uber scheduled go one day strike delhi tuesday kaali taxi operators joined hands rivals ola uber strike drivers claim nothing changed since february protest barely earning enough eat pay car \n",
      "실제 요약 : ola uber drivers to go on strike in delhi \n",
      "예측 요약 :  ola uber drivers in uber over fire in uber\n",
      "\n",
      "\n",
      "원문 : actress sharma mother sharma set marry mithun chakraborty son mimoh speaking rape complaint filed mimoh actress questioned wait long take action added mimoh met aware days wedding \n",
      "실제 요약 : why did rape victim wait to file fir fianc mom \n",
      "예측 요약 :  mithun son son to be tried to rape case\n",
      "\n",
      "\n",
      "원문 : ahead india pakistan asia cup tie wednesday indian wheelchair cricket team thrashed pakistani counterparts friendship cup match played uae indian wheelchair team scored pakistan got dismissed runs indian men cricket team set face pakistan first time period months \n",
      "실제 요약 : indian wheelchair cricket team beats pakistan by runs \n",
      "예측 요약 :  pakistan hockey team to win pakistan hockey team\n",
      "\n",
      "\n",
      "원문 : year old boy sent welfare home juvenile justice board allegedly raping three year old girl wednesday night district west bengal police said girl playing alone near house accused lives nearby lured chocolates villagers caught youth girl started screaming \n",
      "실제 요약 : year old boy rapes year old girl in west bengal \n",
      "예측 요약 :  yr old girl raped by year old neighbour in delhi\n",
      "\n",
      "\n",
      "원문 : jacqueline fernandez feature recreated version madhuri dixit starrer song ek teen upcoming film baaghi time favourite song asked choreographer ganesh acharya retain saroj khan famous hook steps said film director ahmed khan baaghi star tiger shroff disha patani lead roles \n",
      "실제 요약 : jacqueline to feature in recreated version of ek do teen \n",
      "예측 요약 :  jacqueline jacqueline jacqueline from dil hai\n",
      "\n",
      "\n",
      "원문 : top ranked rounder shakib al hasan appointed captain bangladesh team following meeting bangladesh cricket board saturday shakib replaces mashrafe mortaza retired format last month shakib previously captained bangladesh four back country losing \n",
      "실제 요약 : shakib al appointed bangladesh captain \n",
      "예측 요약 :  india captain dropped from india squad for tour vs sa\n",
      "\n",
      "\n",
      "원문 : new york times offering six day guided tour costing per person called brexit means brexit help americans examine historic implications historic vote tour politicians journalists explain uk pm theresa may statement brexit means brexit could meant tours include chernobyl years later greenland melting \n",
      "실제 요약 : new york times offers brexit means brexit london tour \n",
      "예측 요약 :  uk uk firm to pay mn to brexit deal\n",
      "\n",
      "\n",
      "원문 : team india captain virat kohli interview said initial days people thought would flash pan judged lot would get constant feedback appearance kohli added truth work hard game give back look tattoos looks commitment said \n",
      "실제 요약 : people thought would only be flash in the pan virat kohli \n",
      "예측 요약 :  kohli should be affected by kohli says kohli\n",
      "\n",
      "\n",
      "원문 : democratic representative brad filed first formal article impeachment us president donald trump wednesday accused trump committing obstruction justice firing former fbi director james comey amid probe russian interference polls congress remove presidents enough lawmakers vote saying committed crimes including treason bribery \n",
      "실제 요약 : first article of impeachment filed against donald trump \n",
      "예측 요약 :  trump denies allegations of us prez trump\n",
      "\n",
      "\n",
      "원문 : bankruptcy court us recognised pnb claim proceeds asset sold us nirav modi entities court also issued summons nirav modi bhansali rakhi bhansali ajay gandhi kunal patel connection billion pnb scam bhansali senior official firestar international rakhi wife \n",
      "실제 요약 : pnb has claim on nirav modi us assets rules court \n",
      "예측 요약 :  pnb scam was not linked to nirav modi mehul choksi\n",
      "\n",
      "\n",
      "원문 : three people arrested rape minor girl delhi uploading video incident whatsapp incident occurred days ago neighbour invited house raped two friends recorded girl mother filed complaint another neighbour told videos \n",
      "실제 요약 : minor girl raped by neighbour video on whatsapp \n",
      "예측 요약 :  man arrested for raping year old girl in mumbai\n",
      "\n",
      "\n",
      "원문 : footage released animal welfare group international animal rescue shows orangutan fighting indonesia trees considered home incident reportedly took place group released footage june world environment day group said deforestation led decline orangutan population \n",
      "실제 요약 : tries to fight off destroying its home \n",
      "예측 요약 :  video of mumbai beach lit up in china\n",
      "\n",
      "\n",
      "원문 : actor anil kapoor speaking daughter sonam kapoor completing years film industry thursday said proud stuck conviction said whole career choice films radical makes unique \n",
      "실제 요약 : am proud sonam stuck to her conviction for years anil \n",
      "예측 요약 :  have been very anil kapoor on anil kapoor\n",
      "\n",
      "\n",
      "원문 : supreme court thursday adjourned hearing ayodhya dispute case till march citing incomplete filing documents petitioners sc hearing petitions challenging allahabad high court verdict directed division disputed land sunni waqf board ram deity akhara \n",
      "실제 요약 : sc hearing in ayodhya dispute case till march \n",
      "예측 요약 :  sc rejects urgent hearing on ayodhya dispute in ayodhya case\n",
      "\n",
      "\n",
      "원문 : shiv sena spokesperson mp sanjay raut thursday said narendra modi wave added congress vice president rahul gandhi capable leading country referring nickname used mock rahul social media raut said wrong call pappu people make anyone pappu \n",
      "실제 요약 : modi wave rahul capable of leading shiv sena \n",
      "예측 요약 :  pm modi is like lies rahul on rahul gandhi\n",
      "\n",
      "\n",
      "원문 : talking negative effects facebook social media network former employee said firm goal addict people know negative effects honest said talking facebook launching apps children added end goal acquire customers incredibly young age \n",
      "실제 요약 : facebook goal was to addict people former employee \n",
      "예측 요약 :  facebook denies user on facebook tweets user\n",
      "\n",
      "\n",
      "원문 : uttar pradesh minister suresh khanna said huge state never claimed ensure zero crime assure criminals go comes recent murder gangrape incidents opposition congress comment uttam pradesh turning crime pradesh incidents never happened happened behest government \n",
      "실제 요약 : uttar pradesh too big to ensure zero crime state minister \n",
      "예측 요약 :  no one to be up minister on rapes up minister\n",
      "\n",
      "\n",
      "원문 : death toll bihar floods risen crore people affected districts state according government lakh people taken safer places rescue teams official claimed water levels major rivers going thereby improving flood situation \n",
      "실제 요약 : death toll in bihar floods rises to \n",
      "예측 요약 :  death toll in bihar floods rises to crore\n",
      "\n",
      "\n"
     ]
    }
   ],
   "source": [
    "for i in range(50, 100):\n",
    "    print(\"원문 :\", seq2text(encoder_input_test[i]))\n",
    "    print(\"실제 요약 :\", seq2headlines(decoder_input_test[i]))\n",
    "    print(\"예측 요약 :\", decode_sequence(encoder_input_test[i].reshape(1, text_max_len)))\n",
    "    print(\"\\n\")"
   ]
  },
  {
   "cell_type": "markdown",
   "id": "0f48f51b",
   "metadata": {},
   "source": [
    "# 8. 추출적 요약"
   ]
  },
  {
   "cell_type": "code",
   "execution_count": 64,
   "id": "96db91f3",
   "metadata": {},
   "outputs": [],
   "source": [
    "import requests\n",
    "from summa.summarizer import summarize"
   ]
  },
  {
   "cell_type": "code",
   "execution_count": 62,
   "id": "61ca4e46",
   "metadata": {},
   "outputs": [
    {
     "name": "stdout",
     "output_type": "stream",
     "text": [
      "전체 샘플수 : 98401\n"
     ]
    }
   ],
   "source": [
    "urllib.request.urlretrieve(\"https://raw.githubusercontent.com/sunnysai12345/News_Summary/master/news_summary_more.csv\", filename=\"news_summary_more.csv\")\n",
    "data = pd.read_csv('news_summary_more.csv', encoding='iso-8859-1')\n",
    "print('전체 샘플수 :', (len(data)))"
   ]
  },
  {
   "cell_type": "code",
   "execution_count": 63,
   "id": "7da4522d",
   "metadata": {},
   "outputs": [
    {
     "name": "stdout",
     "output_type": "stream",
     "text": [
      "                                              headlines  \\\n",
      "0     upGrad learner switches to career in ML & Al w...   \n",
      "1     Delhi techie wins free food from Swiggy for on...   \n",
      "2     New Zealand end Rohit Sharma-led India's 12-ma...   \n",
      "3     Aegon life iTerm insurance plan helps customer...   \n",
      "4     Have known Hirani for yrs, what if MeToo claim...   \n",
      "...                                                 ...   \n",
      "1495  Have seen Sachin Tendulkar get angry but not M...   \n",
      "1496  Player ensures wife stays dry in rain during A...   \n",
      "1497  Federer denied entry into locker room by secur...   \n",
      "1498  42/42 seats in West Bengal: CM Mamata's cutout...   \n",
      "1499  Court refuses chargesheet by Delhi Police agai...   \n",
      "\n",
      "                                                   text  \n",
      "0     Saurav Kant, an alumnus of upGrad and IIIT-B's...  \n",
      "1     Kunal Shah's credit card bill payment platform...  \n",
      "2     New Zealand defeated India by 8 wickets in the...  \n",
      "3     With Aegon Life iTerm Insurance plan, customer...  \n",
      "4     Speaking about the sexual harassment allegatio...  \n",
      "...                                                 ...  \n",
      "1495  India head coach Ravi Shastri has said that he...  \n",
      "1496  Italian tennis player Andreas Seppi ensured hi...  \n",
      "1497  World number three Roger Federer was stopped b...  \n",
      "1498  A cutout of TMC chief and West Bengal CM Mamat...  \n",
      "1499  A Delhi court on Saturday pulled up Delhi Poli...  \n",
      "\n",
      "[1500 rows x 2 columns]\n"
     ]
    }
   ],
   "source": [
    "print(data[:1500])"
   ]
  },
  {
   "cell_type": "code",
   "execution_count": 65,
   "id": "2d4f738f",
   "metadata": {},
   "outputs": [
    {
     "name": "stdout",
     "output_type": "stream",
     "text": [
      "Summary:\n",
      "Users get one CRED coin per rupee of bill paid, which can be used to avail rewards from brands like Ixigo, BookMyShow, UberEats, Cult.Fit and more.\n"
     ]
    },
    {
     "data": {
      "text/html": [
       "<div>\n",
       "<style scoped>\n",
       "    .dataframe tbody tr th:only-of-type {\n",
       "        vertical-align: middle;\n",
       "    }\n",
       "\n",
       "    .dataframe tbody tr th {\n",
       "        vertical-align: top;\n",
       "    }\n",
       "\n",
       "    .dataframe thead th {\n",
       "        text-align: right;\n",
       "    }\n",
       "</style>\n",
       "<table border=\"1\" class=\"dataframe\">\n",
       "  <thead>\n",
       "    <tr style=\"text-align: right;\">\n",
       "      <th></th>\n",
       "      <th>headlines</th>\n",
       "      <th>text</th>\n",
       "    </tr>\n",
       "  </thead>\n",
       "  <tbody>\n",
       "    <tr>\n",
       "      <th>0</th>\n",
       "      <td>upGrad learner switches to career in ML &amp; Al w...</td>\n",
       "      <td>Saurav Kant, an alumnus of upGrad and IIIT-B's...</td>\n",
       "    </tr>\n",
       "    <tr>\n",
       "      <th>1</th>\n",
       "      <td>Delhi techie wins free food from Swiggy for on...</td>\n",
       "      <td>Kunal Shah's credit card bill payment platform...</td>\n",
       "    </tr>\n",
       "    <tr>\n",
       "      <th>2</th>\n",
       "      <td>New Zealand end Rohit Sharma-led India's 12-ma...</td>\n",
       "      <td>New Zealand defeated India by 8 wickets in the...</td>\n",
       "    </tr>\n",
       "    <tr>\n",
       "      <th>3</th>\n",
       "      <td>Aegon life iTerm insurance plan helps customer...</td>\n",
       "      <td>With Aegon Life iTerm Insurance plan, customer...</td>\n",
       "    </tr>\n",
       "    <tr>\n",
       "      <th>4</th>\n",
       "      <td>Have known Hirani for yrs, what if MeToo claim...</td>\n",
       "      <td>Speaking about the sexual harassment allegatio...</td>\n",
       "    </tr>\n",
       "  </tbody>\n",
       "</table>\n",
       "</div>"
      ],
      "text/plain": [
       "                                           headlines  \\\n",
       "0  upGrad learner switches to career in ML & Al w...   \n",
       "1  Delhi techie wins free food from Swiggy for on...   \n",
       "2  New Zealand end Rohit Sharma-led India's 12-ma...   \n",
       "3  Aegon life iTerm insurance plan helps customer...   \n",
       "4  Have known Hirani for yrs, what if MeToo claim...   \n",
       "\n",
       "                                                text  \n",
       "0  Saurav Kant, an alumnus of upGrad and IIIT-B's...  \n",
       "1  Kunal Shah's credit card bill payment platform...  \n",
       "2  New Zealand defeated India by 8 wickets in the...  \n",
       "3  With Aegon Life iTerm Insurance plan, customer...  \n",
       "4  Speaking about the sexual harassment allegatio...  "
      ]
     },
     "execution_count": 65,
     "metadata": {},
     "output_type": "execute_result"
    }
   ],
   "source": [
    "print('Summary:')\n",
    "print(summarize(data[\"text\"][1], ratio=0.5))\n",
    "data.head()"
   ]
  },
  {
   "cell_type": "code",
   "execution_count": 66,
   "id": "264bf03a",
   "metadata": {
    "scrolled": true
   },
   "outputs": [
    {
     "name": "stdout",
     "output_type": "stream",
     "text": [
      "Summary:\n",
      "['The match witnessed India getting all out for 92, their seventh lowest total in ODI cricket history.']\n"
     ]
    }
   ],
   "source": [
    "print('Summary:')\n",
    "print(summarize(data[\"text\"][2], ratio=0.5, split=True))"
   ]
  },
  {
   "cell_type": "code",
   "execution_count": 67,
   "id": "1bca2f7a",
   "metadata": {},
   "outputs": [
    {
     "name": "stdout",
     "output_type": "stream",
     "text": [
      "Summary:\n",
      "With Aegon Life iTerm Insurance plan, customers can enjoy tax benefits on your premiums paid and save up to Ã¢ÂÂ¹46,800^ on taxes.\n",
      "The plan provides life cover up to the age of 100 years.\n",
      "Also, customers have options to insure against Critical Illnesses, Disability and Accidental Death Benefit Rider with a life cover up to the age of 80 years.\n"
     ]
    }
   ],
   "source": [
    "print('Summary:')\n",
    "print(summarize(data[\"text\"][3], words=50))"
   ]
  },
  {
   "cell_type": "markdown",
   "id": "531ba8bd",
   "metadata": {},
   "source": [
    "# 회고\n",
    "- 자연어가 너무 어렵다. 진짜 정말 너무 어렵다.\n",
    "- 추상적인 방식으로 예측된 요약문과 실제 헤드라인을 비교해보니, 키워드를 잘 찾아낸 것도 있지만 원문에 없는 엉뚱한 내용을 만들어낸 경우도 있었다. 축약어가 많이 사용되다 보니 학습에 어려움이 있지 않나 싶다.\n",
    "- 추출적인 방식으로 예측된 요약문과 실제 헤드라인을 비교했을지 내용과 문법이 생각보다 정확했다. 하지만 부가적인 내용까지 추가되어있어서 축약이 덜 된듯한 느낌을 받았으며, 실제 헤드라인과 유사한 핵심 문장이 아닌 다른 문장을 추출한 경우도 있었다.\n",
    "- 뉴스처럼 정확한 정보전달을 위한 매체라면 추상적인것 보단 추출적인 방식이 더 어울리지 않을까 싶다. 네이버, 다음, 네이트 모두 추출적인 방식을 선택하여 사용하는게 아닐까라고 생각해본다"
   ]
  }
 ],
 "metadata": {
  "kernelspec": {
   "display_name": "Python 3 (ipykernel)",
   "language": "python",
   "name": "python3"
  },
  "language_info": {
   "codemirror_mode": {
    "name": "ipython",
    "version": 3
   },
   "file_extension": ".py",
   "mimetype": "text/x-python",
   "name": "python",
   "nbconvert_exporter": "python",
   "pygments_lexer": "ipython3",
   "version": "3.9.7"
  }
 },
 "nbformat": 4,
 "nbformat_minor": 5
}
