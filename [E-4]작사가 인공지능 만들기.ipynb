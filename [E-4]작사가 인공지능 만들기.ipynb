{
 "cells": [
  {
   "cell_type": "markdown",
   "id": "39b89e61",
   "metadata": {},
   "source": [
    "# 작사가 인공지능 만들기"
   ]
  },
  {
   "cell_type": "markdown",
   "id": "dad6cc7e",
   "metadata": {},
   "source": [
    "### import하기!!"
   ]
  },
  {
   "cell_type": "code",
   "execution_count": 90,
   "id": "c7c08645",
   "metadata": {},
   "outputs": [],
   "source": [
    "import os\n",
    "import glob\n",
    "import re\n",
    "import matplotlib.pyplot as plt\n",
    "import numpy as np\n",
    "\n",
    "import tensorflow as tf\n",
    "from sklearn.model_selection import train_test_split"
   ]
  },
  {
   "cell_type": "markdown",
   "id": "b046eba9",
   "metadata": {},
   "source": [
    "## 데이터 읽기"
   ]
  },
  {
   "cell_type": "code",
   "execution_count": null,
   "id": "31b95794",
   "metadata": {},
   "outputs": [],
   "source": [
    "txt_file_path = os.getenv('HOME')+'/aiffel/lyricist/data/lyrics/*'\n",
    "\n",
    "txt_list = glob.glob(txt_file_path)\n",
    "\n",
    "raw_corpus = []\n",
    "\n",
    "# 여러개의 txt 파일을 모두 읽어서 raw_corpus 에 담습니다.\n",
    "for txt_file in txt_list:\n",
    "    with open(txt_file, \"r\") as f:\n",
    "        raw = f.read().splitlines()\n",
    "        raw_corpus.extend(raw)\n",
    "\n",
    "print(\"데이터 크기:\", len(raw_corpus))\n",
    "print(\"Examples:\\n\", raw_corpus[:20])"
   ]
  },
  {
   "cell_type": "markdown",
   "id": "bb369b6b",
   "metadata": {},
   "source": [
    "## 데이터를 정제\n",
    "## 정규표현식을 이용하여 corpus를 생성함"
   ]
  },
  {
   "cell_type": "code",
   "execution_count": 91,
   "id": "598ba03a",
   "metadata": {},
   "outputs": [],
   "source": [
    "# 정규표현식으로 문장을 정제하는 함수\n",
    "def preprocess_sentence(sentence):\n",
    "    sentence = sentence.lower().strip()       # 소문자로 바꾸고 양쪽 공백을 삭제\n",
    "  \n",
    "    # 아래 3단계를 거쳐 sentence는 스페이스 1개를 delimeter로 하는 소문자 단어 시퀀스로 바뀝니다.\n",
    "    sentence = re.sub(r\"([?.!,¿])\", r\" \\1 \", sentence)        # 패턴의 특수문자를 만나면 특수문자 양쪽에 공백을 추가\n",
    "    sentence = re.sub(r'[\" \"]+', \" \", sentence)                  # 공백 패턴을 만나면 스페이스 1개로 치환\n",
    "    sentence = re.sub(r\"[^a-zA-Z?.!,¿]+\", \" \", sentence)  # a-zA-Z?.!,¿ 패턴을 제외한 모든 문자(공백문자까지도)를 스페이스 1개로 치환\n",
    "\n",
    "    sentence = sentence.strip()\n",
    "\n",
    "    sentence = '<start> ' + sentence + ' <end>'      # 이전 스텝에서 본 것처럼 문장 앞뒤로 <start>와 <end>를 단어처럼 붙여 줍니다\n",
    "    \n",
    "    return sentence"
   ]
  },
  {
   "cell_type": "code",
   "execution_count": 92,
   "id": "31ed225a",
   "metadata": {},
   "outputs": [
    {
     "data": {
      "text/plain": [
       "['<start> now i ve heard there was a secret chord <end>',\n",
       " '<start> that david played , and it pleased the lord <end>',\n",
       " '<start> but you don t really care for music , do you ? <end>',\n",
       " '<start> it goes like this <end>',\n",
       " '<start> the fourth , the fifth <end>',\n",
       " '<start> the minor fall , the major lift <end>',\n",
       " '<start> the baffled king composing hallelujah hallelujah <end>',\n",
       " '<start> hallelujah <end>',\n",
       " '<start> hallelujah <end>',\n",
       " '<start> hallelujah your faith was strong but you needed proof <end>']"
      ]
     },
     "execution_count": 92,
     "metadata": {},
     "output_type": "execute_result"
    }
   ],
   "source": [
    "corpus = []\n",
    "\n",
    "for sentence in raw_corpus:\n",
    "    if len(sentence) == 0: continue\n",
    "    if sentence[-1] == \":\": continue\n",
    "        \n",
    "    corpus.append(preprocess_sentence(sentence))\n",
    "        \n",
    "corpus[:10]"
   ]
  },
  {
   "cell_type": "markdown",
   "id": "27763d5b",
   "metadata": {},
   "source": [
    "## Tokenizer패키지로 corpus를 텐서로 변환한다."
   ]
  },
  {
   "cell_type": "code",
   "execution_count": 93,
   "id": "08dfa57f",
   "metadata": {},
   "outputs": [],
   "source": [
    "def tokenize(corpus):\n",
    "    # 텐서플로우에서 제공하는 Tokenizer 패키지를 생성\n",
    "    tokenizer = tf.keras.preprocessing.text.Tokenizer(\n",
    "        num_words=7000,  # 전체 단어의 개수 \n",
    "        filters=' ',    # 별도로 전처리 로직을 추가할 수 있습니다. 이번에는 사용하지 않겠습니다.\n",
    "        oov_token=\"<unk>\"  # out-of-vocabulary, 사전에 없었던 단어는 어떤 토큰으로 대체할지\n",
    "    )\n",
    "    tokenizer.fit_on_texts(corpus)   # 우리가 구축한 corpus로부터 Tokenizer가 사전을 자동구축하게 됩니다.\n",
    "\n",
    "    # 이후 tokenizer를 활용하여 모델에 입력할 데이터셋을 구축하게 됩니다.\n",
    "    tensor = tokenizer.texts_to_sequences(corpus)   # tokenizer는 구축한 사전으로부터 corpus를 해석해 Tensor로 변환합니다.\n",
    "\n",
    "    # 입력 데이터의 시퀀스 길이를 일정하게 맞추기 위한 padding  메소드를 제공합니다.\n",
    "    # maxlen의 디폴트값은 None입니다. 이 경우 corpus의 가장 긴 문장을 기준으로 시퀀스 길이가 맞춰집니다.\n",
    "    tensor = tf.keras.preprocessing.sequence.pad_sequences(tensor, padding='post', maxlen=15)  \n",
    "\n",
    "    print(tensor,tokenizer)\n",
    "    return tensor, tokenizer"
   ]
  },
  {
   "cell_type": "code",
   "execution_count": 79,
   "id": "f967b789",
   "metadata": {},
   "outputs": [],
   "source": [
    "def plot_curve(epochs, hist, list_of_metrics):\n",
    "    \n",
    "    fig, ax = plt.subplots(1,2,figsize = (12, 8))\n",
    "    \n",
    "    for i in range(len(ax)):\n",
    "        ax[i].set_xlabel('Epochs')\n",
    "        ax[i].set_ylabel('Value')\n",
    "        \n",
    "        for n in range(len(list_of_metrics)):\n",
    "            if i == 0:\n",
    "                y = hist[list_of_metrics[n]]\n",
    "                if n == 0:\n",
    "                    ax[i].plot(epochs, y, label=\"train\")\n",
    "                else:\n",
    "                    ax[i].plot(epochs, y, label=\"val\")\n",
    "                ax[i].set_title('Loss')\n",
    "                ax[i].legend(loc='upper right')\n",
    "                if n == 1:\n",
    "                    break\n",
    "            else:\n",
    "                if n >= 2:\n",
    "                    y = hist[list_of_metrics[n]]\n",
    "                    if n == 2:\n",
    "                        ax[i].plot(epochs, y, label=\"train\")\n",
    "                    else:\n",
    "                        ax[i].plot(epochs, y, label=\"val\")\n",
    "                    ax[i].set_title('Accuracy')\n",
    "                    ax[i].legend(loc='lower right')\n",
    "                    \n",
    "    plt.show()"
   ]
  },
  {
   "cell_type": "code",
   "execution_count": 80,
   "id": "60e2bda6",
   "metadata": {},
   "outputs": [],
   "source": [
    "def generate_text(model, tokenizer, init_sentence=\"<start>\", max_len=20):\n",
    "    # 테스트를 위해서 입력받은 init_sentence도 일단 텐서로 변환합니다.\n",
    "    test_input = tokenizer.texts_to_sequences([init_sentence])\n",
    "    test_tensor = tf.convert_to_tensor(test_input, dtype=tf.int64)\n",
    "    end_token = tokenizer.word_index[\"<end>\"]\n",
    "\n",
    "    # 텍스트를 실제로 생성할때는 루프를 돌면서 단어 하나씩 생성해야 합니다. \n",
    "    while True:\n",
    "        predict = model(test_tensor)  # 입력받은 문장의 텐서를 입력합니다. \n",
    "        predict_word = tf.argmax(tf.nn.softmax(predict, axis=-1), axis=-1)[:, -1]   # 우리 모델이 예측한 마지막 단어가 바로 새롭게 생성한 단어가 됩니다. \n",
    "\n",
    "        # 우리 모델이 새롭게 예측한 단어를 입력 문장의 뒤에 붙여 줍니다. \n",
    "        test_tensor = tf.concat([test_tensor, \n",
    "        tf.expand_dims(predict_word, axis=0)], axis=-1)\n",
    "\n",
    "        # 우리 모델이 <END>를 예측했거나, max_len에 도달하지 않았다면  while 루프를 또 돌면서 다음 단어를 예측해야 합니다.\n",
    "        if predict_word.numpy()[0] == end_token: break\n",
    "        if test_tensor.shape[1] >= max_len: break\n",
    "\n",
    "    generated = \"\"\n",
    "    # 생성된 tensor 안에 있는 word index를 tokenizer.index_word 사전을 통해 실제 단어로 하나씩 변환합니다. \n",
    "    for word_index in test_tensor[0].numpy():\n",
    "        generated += tokenizer.index_word[word_index] + \" \"\n",
    "\n",
    "    return generated   # 이것이 최종적으로 모델이 생성한 자연어 문장입니다."
   ]
  },
  {
   "cell_type": "markdown",
   "id": "b6067873",
   "metadata": {},
   "source": [
    "## Data 전처리"
   ]
  },
  {
   "cell_type": "code",
   "execution_count": 62,
   "id": "53ccd01c",
   "metadata": {},
   "outputs": [
    {
     "name": "stdout",
     "output_type": "stream",
     "text": [
      "[[   2   50    5 ...    0    0    0]\n",
      " [   2   17 2639 ...    0    0    0]\n",
      " [   2   36    7 ...   43    3    0]\n",
      " ...\n",
      " [   5   22    9 ...   10 1013    3]\n",
      " [  37   15    1 ...  877  647    3]\n",
      " [   2    7   34 ...    0    0    0]] <keras_preprocessing.text.Tokenizer object at 0x7f5cd2bd6c70>\n"
     ]
    }
   ],
   "source": [
    "tensor, tokenizer = tokenize(corpus)"
   ]
  },
  {
   "cell_type": "code",
   "execution_count": 63,
   "id": "e5628f74",
   "metadata": {},
   "outputs": [
    {
     "name": "stdout",
     "output_type": "stream",
     "text": [
      "[   2   50    5   91  297   65   57    9  969 6042    3    0    0    0]\n",
      "[  50    5   91  297   65   57    9  969 6042    3    0    0    0    0]\n"
     ]
    }
   ],
   "source": [
    "# source, target 문장 생성\n",
    "src_input = tensor[:, :-1]  # tensor에서 마지막 토큰을 잘라내서 소스 문장을 생성합니다. 마지막 토큰은 <END>가 아니라 <pad>일 가능성이 높습니다.\n",
    "tgt_input = tensor[:, 1:]    # tensor에서 <START>를 잘라내서 타겟 문장을 생성합니다.\n",
    "\n",
    "print(src_input[0])\n",
    "print(tgt_input[0])"
   ]
  },
  {
   "cell_type": "code",
   "execution_count": 64,
   "id": "a626ed7d",
   "metadata": {},
   "outputs": [],
   "source": [
    "enc_train, enc_val, dec_train, dec_val = train_test_split(src_input, tgt_input, test_size=0.2, random_state=2020)"
   ]
  },
  {
   "cell_type": "code",
   "execution_count": 66,
   "id": "e24e4f75",
   "metadata": {},
   "outputs": [],
   "source": [
    "BUFFER_SIZE = len(src_input)\n",
    "BATCH_SIZE = 256\n",
    "steps_per_epoch = len(src_input) // BATCH_SIZE\n",
    "\n",
    "VOCAB_SIZE = tokenizer.num_words + 1    # tokenizer가 구축한 단어사전 내 7000개와, 여기 포함되지 않은 0:<pad>를 포함하여 7001개"
   ]
  },
  {
   "cell_type": "code",
   "execution_count": 67,
   "id": "972d5f3d",
   "metadata": {},
   "outputs": [
    {
     "data": {
      "text/plain": [
       "<BatchDataset shapes: ((256, 14), (256, 14)), types: (tf.int32, tf.int32)>"
      ]
     },
     "execution_count": 67,
     "metadata": {},
     "output_type": "execute_result"
    }
   ],
   "source": [
    "dataset = tf.data.Dataset.from_tensor_slices((enc_train, dec_train)).shuffle(BUFFER_SIZE)\n",
    "dataset = dataset.batch(BATCH_SIZE, drop_remainder=True)\n",
    "dataset"
   ]
  },
  {
   "cell_type": "code",
   "execution_count": 68,
   "id": "eea5a57b",
   "metadata": {},
   "outputs": [
    {
     "data": {
      "text/plain": [
       "<BatchDataset shapes: ((256, 14), (256, 14)), types: (tf.int32, tf.int32)>"
      ]
     },
     "execution_count": 68,
     "metadata": {},
     "output_type": "execute_result"
    }
   ],
   "source": [
    "val_dataset = tf.data.Dataset.from_tensor_slices((enc_val, dec_val)).shuffle(BUFFER_SIZE)\n",
    "val_dataset = val_dataset.batch(BATCH_SIZE, drop_remainder=True)\n",
    "val_dataset"
   ]
  },
  {
   "cell_type": "markdown",
   "id": "c167e1c1",
   "metadata": {},
   "source": [
    "## 모델확인"
   ]
  },
  {
   "cell_type": "code",
   "execution_count": 69,
   "id": "77fa5725",
   "metadata": {},
   "outputs": [],
   "source": [
    "class TextGenerator(tf.keras.Model):\n",
    "    def __init__(self, vocab_size, embedding_size, hidden_size):\n",
    "        super(TextGenerator, self).__init__()\n",
    "        \n",
    "        self.embedding = tf.keras.layers.Embedding(vocab_size, embedding_size)\n",
    "        self.rnn_1 = tf.keras.layers.LSTM(hidden_size, return_sequences=True)\n",
    "        self.drop1 = tf.keras.layers.Dropout(0.3) \n",
    "        self.rnn_2 = tf.keras.layers.LSTM(hidden_size, return_sequences=True)\n",
    "        self.linear = tf.keras.layers.Dense(vocab_size)\n",
    "        \n",
    "    def call(self, x):\n",
    "        out = self.embedding(x)\n",
    "        out = self.rnn_1(out)\n",
    "        out = self.drop1(out)\n",
    "        out = self.rnn_2(out)\n",
    "        out = self.linear(out)\n",
    "        \n",
    "        return out\n",
    "    \n",
    "embedding_size = 2048\n",
    "hidden_size = 2048\n",
    "model = TextGenerator(tokenizer.num_words + 1, embedding_size , hidden_size)"
   ]
  },
  {
   "cell_type": "code",
   "execution_count": 70,
   "id": "8dd4244b",
   "metadata": {},
   "outputs": [
    {
     "data": {
      "text/plain": [
       "<tf.Tensor: shape=(256, 14, 7001), dtype=float32, numpy=\n",
       "array([[[-1.18994107e-03,  7.83716387e-04,  8.49080679e-04, ...,\n",
       "          3.42731859e-04, -4.11856861e-04, -3.28552123e-04],\n",
       "        [-2.30291742e-03,  1.17171113e-03,  1.61324441e-03, ...,\n",
       "         -4.66304991e-05, -2.87557923e-04, -1.48119871e-03],\n",
       "        [-3.01625929e-03,  1.23444863e-03,  1.15363533e-03, ...,\n",
       "         -9.20810853e-04, -2.59751600e-04, -5.81039349e-04],\n",
       "        ...,\n",
       "        [ 1.67526281e-03,  4.99220158e-04, -2.40132981e-03, ...,\n",
       "          2.94281053e-03, -3.28228204e-03, -2.62599182e-03],\n",
       "        [ 2.07934622e-03,  5.63554204e-05, -1.80756173e-03, ...,\n",
       "          4.00145026e-03, -4.48084529e-03, -3.37314000e-03],\n",
       "        [ 2.46899761e-03, -2.20372749e-04, -1.18876330e-03, ...,\n",
       "          4.91535338e-03, -5.71392896e-03, -4.01105685e-03]],\n",
       "\n",
       "       [[ 3.38798782e-05, -3.57469107e-04,  4.18428826e-04, ...,\n",
       "         -3.53514537e-04, -1.79894705e-04,  8.00061447e-04],\n",
       "        [ 2.30879668e-04, -1.54099986e-03,  2.60426226e-04, ...,\n",
       "          1.20354380e-04, -8.28598058e-05,  2.63974094e-03],\n",
       "        [ 7.49984931e-04, -1.65425963e-03, -6.86059764e-04, ...,\n",
       "          4.93361906e-04, -2.08654703e-04,  2.88452161e-03],\n",
       "        ...,\n",
       "        [-2.27126526e-03, -1.38811371e-03, -2.26248638e-03, ...,\n",
       "         -6.29968592e-04, -2.14438955e-03,  1.33984175e-03],\n",
       "        [-3.28635308e-03, -1.08450965e-03, -1.47341285e-03, ...,\n",
       "         -6.93113407e-06, -2.93881167e-03,  1.23891013e-03],\n",
       "        [-4.54254774e-03, -8.78239283e-04, -6.00227329e-04, ...,\n",
       "          2.01453513e-04, -3.25584435e-03,  1.51623681e-03]],\n",
       "\n",
       "       [[-1.18994107e-03,  7.83716387e-04,  8.49080679e-04, ...,\n",
       "          3.42731859e-04, -4.11856861e-04, -3.28552123e-04],\n",
       "        [-2.13646051e-03,  1.20288564e-03,  1.30425079e-03, ...,\n",
       "          6.70611102e-04, -1.01120851e-03,  7.69018021e-04],\n",
       "        [-1.89196132e-03,  1.93973002e-03,  8.64952628e-04, ...,\n",
       "          6.42432889e-04, -1.22765941e-03,  5.49081655e-04],\n",
       "        ...,\n",
       "        [ 7.19044183e-04, -1.65610446e-03,  2.93899584e-03, ...,\n",
       "          5.15633030e-03, -5.98284137e-03, -2.59419973e-03],\n",
       "        [ 1.47502159e-03, -1.66037143e-03,  3.12535232e-03, ...,\n",
       "          5.90454182e-03, -7.18417531e-03, -3.05174105e-03],\n",
       "        [ 2.15436867e-03, -1.52555830e-03,  3.29243531e-03, ...,\n",
       "          6.49449369e-03, -8.33887793e-03, -3.51344375e-03]],\n",
       "\n",
       "       ...,\n",
       "\n",
       "       [[-1.18994107e-03,  7.83716387e-04,  8.49080679e-04, ...,\n",
       "          3.42731859e-04, -4.11856861e-04, -3.28552123e-04],\n",
       "        [-1.33534800e-03,  1.38160214e-03,  1.19657302e-03, ...,\n",
       "          1.13618060e-03, -1.01672769e-04, -3.54478543e-04],\n",
       "        [-1.45708327e-03,  1.41143473e-03,  2.38362481e-04, ...,\n",
       "          1.66921073e-03, -3.95291805e-04, -2.38391673e-04],\n",
       "        ...,\n",
       "        [ 2.68058339e-03, -8.24758201e-04, -3.33647331e-04, ...,\n",
       "          5.56131825e-03, -3.35074915e-03, -4.91238339e-03],\n",
       "        [ 3.12466919e-03, -1.05454738e-03,  2.24542528e-04, ...,\n",
       "          6.29865984e-03, -4.97073401e-03, -5.21826977e-03],\n",
       "        [ 3.50215263e-03, -1.10043108e-03,  7.30832457e-04, ...,\n",
       "          6.89445157e-03, -6.50256732e-03, -5.50540583e-03]],\n",
       "\n",
       "       [[-1.18994107e-03,  7.83716387e-04,  8.49080679e-04, ...,\n",
       "          3.42731859e-04, -4.11856861e-04, -3.28552123e-04],\n",
       "        [-1.72599708e-03,  1.40510791e-03,  2.60774116e-03, ...,\n",
       "          5.71162673e-04, -4.53374290e-04, -1.91915606e-04],\n",
       "        [-2.12481502e-03,  1.96203985e-03,  3.55694536e-03, ...,\n",
       "          6.50537200e-04, -7.08552485e-04,  3.21722095e-04],\n",
       "        ...,\n",
       "        [ 2.04793457e-03, -2.42816477e-05,  1.34448917e-03, ...,\n",
       "          6.14639465e-03, -6.02692505e-03, -3.69230611e-03],\n",
       "        [ 2.73837545e-03, -9.16148856e-05,  1.53058150e-03, ...,\n",
       "          6.92440150e-03, -7.37648597e-03, -4.10994189e-03],\n",
       "        [ 3.33282002e-03, -2.40509380e-05,  1.72753644e-03, ...,\n",
       "          7.54819484e-03, -8.63465667e-03, -4.51248325e-03]],\n",
       "\n",
       "       [[-1.18994107e-03,  7.83716387e-04,  8.49080679e-04, ...,\n",
       "          3.42731859e-04, -4.11856861e-04, -3.28552123e-04],\n",
       "        [-1.91551913e-03,  1.43659057e-03,  1.43896730e-03, ...,\n",
       "          4.43654484e-04, -1.05290895e-03,  4.45296882e-06],\n",
       "        [-2.21721898e-03,  2.31071678e-03,  7.70651503e-04, ...,\n",
       "          6.46209519e-04, -1.96885108e-03, -3.59258236e-04],\n",
       "        ...,\n",
       "        [-1.87225791e-03,  9.52994087e-05,  6.46060216e-04, ...,\n",
       "          5.00498340e-03, -6.89013861e-03, -4.98009613e-04],\n",
       "        [-8.15677980e-04,  1.20916455e-04,  1.05163944e-03, ...,\n",
       "          5.76944090e-03, -7.89201166e-03, -1.38181879e-03],\n",
       "        [ 1.59982228e-04,  2.21032387e-04,  1.44961674e-03, ...,\n",
       "          6.39740331e-03, -8.88156798e-03, -2.21302593e-03]]],\n",
       "      dtype=float32)>"
      ]
     },
     "execution_count": 70,
     "metadata": {},
     "output_type": "execute_result"
    }
   ],
   "source": [
    "for src_sample, tgt_sample in dataset.take(1): break\n",
    "model(src_sample)"
   ]
  },
  {
   "cell_type": "code",
   "execution_count": 71,
   "id": "28a321f0",
   "metadata": {},
   "outputs": [
    {
     "name": "stdout",
     "output_type": "stream",
     "text": [
      "Model: \"text_generator_4\"\n",
      "_________________________________________________________________\n",
      "Layer (type)                 Output Shape              Param #   \n",
      "=================================================================\n",
      "embedding_5 (Embedding)      multiple                  14338048  \n",
      "_________________________________________________________________\n",
      "lstm_10 (LSTM)               multiple                  33562624  \n",
      "_________________________________________________________________\n",
      "dropout_4 (Dropout)          multiple                  0         \n",
      "_________________________________________________________________\n",
      "lstm_11 (LSTM)               multiple                  33562624  \n",
      "_________________________________________________________________\n",
      "dense_5 (Dense)              multiple                  14345049  \n",
      "=================================================================\n",
      "Total params: 95,808,345\n",
      "Trainable params: 95,808,345\n",
      "Non-trainable params: 0\n",
      "_________________________________________________________________\n"
     ]
    }
   ],
   "source": [
    "model.summary()"
   ]
  },
  {
   "cell_type": "code",
   "execution_count": 72,
   "id": "27b6dcae",
   "metadata": {},
   "outputs": [],
   "source": [
    "optimizer = tf.keras.optimizers.Adam(learning_rate=0.001)\n",
    "loss = tf.keras.losses.SparseCategoricalCrossentropy(\n",
    "    from_logits=True,\n",
    "    reduction='none'\n",
    ")\n",
    "\n",
    "model.compile(loss=loss, optimizer=optimizer, metrics=['accuracy'])"
   ]
  },
  {
   "cell_type": "code",
   "execution_count": null,
   "id": "f20b9c7e",
   "metadata": {},
   "outputs": [],
   "source": [
    "history = model.fit(dataset,epochs=10,validation_data=val_dataset, verbose=1)"
   ]
  },
  {
   "cell_type": "markdown",
   "id": "f2fbeb95",
   "metadata": {},
   "source": [
    "![group](images/1st.JPG)\n",
    "![group](images/2nd.JPG)"
   ]
  },
  {
   "cell_type": "markdown",
   "id": "0070e669",
   "metadata": {},
   "source": [
    "## 모델 평가"
   ]
  },
  {
   "cell_type": "code",
   "execution_count": 84,
   "id": "f4c7dab7",
   "metadata": {},
   "outputs": [
    {
     "data": {
      "image/png": "[encoded data removed]",
      "text/plain": [
       "<Figure size 864x576 with 2 Axes>"
      ]
     },
     "metadata": {
      "needs_background": "light"
     },
     "output_type": "display_data"
    }
   ],
   "source": [
    "plot_curve(history.epoch, history.history, ['loss', 'val_loss', 'accuracy', 'val_accuracy'])"
   ]
  },
  {
   "cell_type": "code",
   "execution_count": 85,
   "id": "7b0b566c",
   "metadata": {},
   "outputs": [],
   "source": [
    "# 문장 생성 함수\n",
    "def generate_text(model, tokenizer, init_sentence=\"<start>\", max_len=20):\n",
    "    # 테스트를 위해서 입력받은 init_sentence도 일단 텐서로 변환합니다.\n",
    "    test_input = tokenizer.texts_to_sequences([init_sentence])\n",
    "    test_tensor = tf.convert_to_tensor(test_input, dtype=tf.int64)\n",
    "    end_token = tokenizer.word_index[\"<end>\"]\n",
    "\n",
    "    # 텍스트를 실제로 생성할때는 루프를 돌면서 단어 하나씩 생성해야 합니다. \n",
    "    while True:\n",
    "        predict = model(test_tensor)  # 입력받은 문장의 텐서를 입력합니다. \n",
    "        predict_word = tf.argmax(tf.nn.softmax(predict, axis=-1), axis=-1)[:, -1]   # 우리 모델이 예측한 마지막 단어가 바로 새롭게 생성한 단어가 됩니다. \n",
    "\n",
    "        # 우리 모델이 새롭게 예측한 단어를 입력 문장의 뒤에 붙여 줍니다. \n",
    "        test_tensor = tf.concat([test_tensor, tf.expand_dims(predict_word, axis=0)], axis=-1)\n",
    "\n",
    "        # 우리 모델이 <end>를 예측했거나, max_len에 도달하지 않았다면  while 루프를 또 돌면서 다음 단어를 예측해야 합니다.\n",
    "        if predict_word.numpy()[0] == end_token: break\n",
    "        if test_tensor.shape[1] >= max_len: break\n",
    "\n",
    "    generated = \"\"\n",
    "    # 생성된 tensor 안에 있는 word index를 tokenizer.index_word 사전을 통해 실제 단어로 하나씩 변환합니다. \n",
    "    for word_index in test_tensor[0].numpy():\n",
    "        generated += tokenizer.index_word[word_index] + \" \"\n",
    "\n",
    "    return generated   # 이것이 최종적으로 모델이 생성한 자연어 문장입니다."
   ]
  },
  {
   "cell_type": "markdown",
   "id": "d859ddd6",
   "metadata": {},
   "source": [
    "## 단어를 입력하고 인공지능에게 작사 시키기"
   ]
  },
  {
   "cell_type": "code",
   "execution_count": 86,
   "id": "8176e94e",
   "metadata": {},
   "outputs": [
    {
     "data": {
      "text/plain": [
       "'<start> all i wanna say is that <end> '"
      ]
     },
     "execution_count": 86,
     "metadata": {},
     "output_type": "execute_result"
    }
   ],
   "source": [
    "generate_text(model, tokenizer, init_sentence=\"<start> all\", max_len=20)"
   ]
  },
  {
   "cell_type": "code",
   "execution_count": 87,
   "id": "72dafff3",
   "metadata": {},
   "outputs": [
    {
     "data": {
      "text/plain": [
       "'<start> lucky that you stayed on <end> '"
      ]
     },
     "execution_count": 87,
     "metadata": {},
     "output_type": "execute_result"
    }
   ],
   "source": [
    "generate_text(model, tokenizer, init_sentence=\"<start> lucky\", max_len=20)"
   ]
  },
  {
   "cell_type": "markdown",
   "id": "c94fda58",
   "metadata": {},
   "source": [
    "### 회고\n",
    "\n",
    "#### 수치를 여러번 바꾸어서 테스트 해보기도 했다. \n",
    "\n",
    "#### epochs 9에서 2.1을 잘 유지하다가 갑자기 마지막 epochs에서 수치가 올라서 너무 화가났다!!\n",
    "\n",
    "#### [ ] 대괄호는 정규표현식에서 사용되는 기호이다. \n",
    "#### 그 자체를 제거하는 식을 만드는게 조금은 헷갈렸는데 이번기회에 알 수 있어서 좋았다. \n",
    "\n",
    "#### 다양한 단어를 주고 실행을 시켜보았다. 꽤나 흥미가 있었던 과제였다.\n",
    "\n",
    "\n"
   ]
  }
 ],
 "metadata": {
  "kernelspec": {
   "display_name": "Python 3 (ipykernel)",
   "language": "python",
   "name": "python3"
  },
  "language_info": {
   "codemirror_mode": {
    "name": "ipython",
    "version": 3
   },
   "file_extension": ".py",
   "mimetype": "text/x-python",
   "name": "python",
   "nbconvert_exporter": "python",
   "pygments_lexer": "ipython3",
   "version": "3.9.7"
  }
 },
 "nbformat": 4,
 "nbformat_minor": 5
}
